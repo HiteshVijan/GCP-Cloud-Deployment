{
  "nbformat": 4,
  "nbformat_minor": 0,
  "metadata": {
    "colab": {
      "provenance": []
    },
    "kernelspec": {
      "name": "python3",
      "display_name": "Python 3"
    },
    "language_info": {
      "name": "python"
    }
  },
  "cells": [
    {
      "cell_type": "markdown",
      "source": [
        "Data Source: https://www.kaggle.com/code/iabhishekofficial/prediction-on-hospital-readmission\n",
        "\n",
        "\n",
        "Scaling Machine Learning with Distributed Computing: Developing and Deploying a Model on a Large Dataset using Hadoop or Spark"
      ],
      "metadata": {
        "id": "Ts2dVUAWwMnC"
      }
    },
    {
      "cell_type": "markdown",
      "source": [
        "Problem Statement:\n",
        "\n",
        "Hospital readmission in diabetic patients​\n",
        "\n",
        "Centers for Medicare & Medicaid Services established the Hospital Readmissions Reduction Program to improve quality of care for patients and reduce healthcare spending by applying payment penalties to hospitals that have more than expected readmission rates for certain conditions.​\n",
        "\n",
        "Being able to determine factors that lead to higher readmission in diabetic patients can help hospitals save millions of dollars while improving quality of care.​\n",
        "\n",
        "Develop a machine learning model that can predict hospital readmissions in diabetic patients. Hospital readmissions are considered an indicator of hospital quality and affect the cost of care adversely."
      ],
      "metadata": {
        "id": "aBBX3a-HxvA0"
      }
    },
    {
      "cell_type": "markdown",
      "source": [
        "Solution Approach:\n",
        "\n",
        "Prepare Data  -->  Build ML Model --> Train & Test Model --> Manage Model --> Build Image with model & Dependencies --> Deploy on GCP --> Monitor the Model"
      ],
      "metadata": {
        "id": "b2iBVUT3x4gk"
      }
    },
    {
      "cell_type": "markdown",
      "source": [
        "Data Modeling Steps:\n",
        "\n",
        "1. Data cleaning: This step involves identifying and removing or imputing invalid or missing values in the dataset. PySpark's DataFrame API provides several built-in functions to perform these tasks efficiently, such as dropna() to remove rows with missing values, and fillna() to fill missing values with a specific value or a statistical measure like mean or median.​\n",
        "\n",
        "2. Data Visualization: To understand the data distribution for each feature, we visualized the data using boxplots. This helped us understand the dispersion of the data around the mean. Using matplotlib library and using plt.boxplot() we create boxplots of all the features.​\n",
        "\n",
        "3. Feature selection: In this step, a subset of relevant features is selected for the analysis to improve the model's accuracy and efficiency. PySpark's DataFrame API offers several methods for feature selection, including select(), drop(), and filter(), which allow you to select specific columns, drop unwanted columns, and filter rows based on certain conditions.​\n",
        "\n",
        "4. Feature engineering: Feature engineering involves creating new features based on domain knowledge and feature interactions to better capture the underlying patterns in the data. PySpark's DataFrame API provides several built-in functions for feature engineering, such as withColumn() to create new columns based on existing ones, and split() to split strings into multiple columns.​\n",
        "\n",
        "5. Encoding categorical variables: Categorical variables need to be converted to numerical format for machine learning models to process them. One-hot encoding is a common method for encoding categorical variables, and PySpark's DataFrame API provides a OneHotEncoder class to perform this task efficiently.​\n",
        "\n",
        "6. Balancing the dataset: Imbalanced datasets can lead to biased models, where the model is biased towards the majority class. To address this issue, the dataset can be balanced using techniques like under-sampling or over-sampling. PySpark's DataFrame API provides several methods for balancing datasets, such as sample() to randomly sample rows, and union() to combine multiple datasets.​\n",
        "\n",
        "7. plitting the dataset: Finally, the dataset is split into training and testing sets for model evaluation. PySpark's DataFrame API provides a randomSplit() function to split the dataset into two or more subsets randomly based on the specified weights.​\n",
        "\n",
        "8. Logistic regression is a binary classification algorithm that uses a logistic function to estimate the probability of the dependent variable (hospital readmission) based on the independent variables (patient characteristics). ​\n",
        "\n",
        "9. Hyperparameter tuning – Accuracy metric to evaluate the performance of the trained model.​"
      ],
      "metadata": {
        "id": "rsq5t6g9ykay"
      }
    },
    {
      "cell_type": "markdown",
      "source": [
        "Deployment on GCP can be seen in the word file attached "
      ],
      "metadata": {
        "id": "dagZCcrYzEF2"
      }
    },
    {
      "cell_type": "code",
      "source": [
        "%%capture\n",
        "!pip install pyspark\n",
        "!pip install scikit-learn"
      ],
      "metadata": {
        "id": "bsE-WzQ6QKTw"
      },
      "execution_count": null,
      "outputs": []
    },
    {
      "cell_type": "code",
      "source": [
        "%%time\n",
        "from pyspark.sql import SparkSession\n",
        "from pyspark.sql.functions import *\n",
        "from pyspark.sql.functions import col\n",
        "from pyspark.ml.feature import StringIndexer, OneHotEncoder, VectorAssembler\n",
        "from pyspark.sql.types import StructType, StructField, StringType, IntegerType, DoubleType\n",
        "import matplotlib.pyplot as plt\n",
        "import IPython\n",
        "import pandas as pd,numpy as np\n",
        "import matplotlib.pyplot as plt\n",
        "import seaborn as sns"
      ],
      "metadata": {
        "id": "iWDMzfI2RF-d",
        "colab": {
          "base_uri": "https://localhost:8080/"
        },
        "outputId": "36a7508d-83d3-4381-dc2b-69f67e9e8430"
      },
      "execution_count": null,
      "outputs": [
        {
          "output_type": "stream",
          "name": "stdout",
          "text": [
            "CPU times: user 415 µs, sys: 0 ns, total: 415 µs\n",
            "Wall time: 1.16 ms\n"
          ]
        }
      ]
    },
    {
      "cell_type": "markdown",
      "source": [
        "**Mounted colab to our project drive to access the data**"
      ],
      "metadata": {
        "id": "7_dxvSTzt35Z"
      }
    },
    {
      "cell_type": "code",
      "source": [
        "from google.colab import drive\n",
        "drive.mount('/content/drive')"
      ],
      "metadata": {
        "colab": {
          "base_uri": "https://localhost:8080/"
        },
        "id": "frjTplkA-kQ8",
        "outputId": "bae6979b-b9be-410c-a475-0d1d75f56770"
      },
      "execution_count": null,
      "outputs": [
        {
          "output_type": "stream",
          "name": "stdout",
          "text": [
            "Drive already mounted at /content/drive; to attempt to forcibly remount, call drive.mount(\"/content/drive\", force_remount=True).\n"
          ]
        }
      ]
    },
    {
      "cell_type": "markdown",
      "source": [
        "**Create Sparksession and Read the data . SparkSession is the entry point to PySpark**"
      ],
      "metadata": {
        "id": "03u9jNy_vcpL"
      }
    },
    {
      "cell_type": "code",
      "source": [
        "# Create a SparkSession\n",
        "%%time\n",
        "spark = SparkSession.builder.appName(\"BDI_Project\").getOrCreate()"
      ],
      "metadata": {
        "id": "w5LlHVosRLXm",
        "colab": {
          "base_uri": "https://localhost:8080/"
        },
        "outputId": "e34ccc89-d98a-4ad4-82c9-21af5d70f49a"
      },
      "execution_count": null,
      "outputs": [
        {
          "output_type": "stream",
          "name": "stdout",
          "text": [
            "CPU times: user 1.6 ms, sys: 1.16 ms, total: 2.76 ms\n",
            "Wall time: 48.7 ms\n"
          ]
        }
      ]
    },
    {
      "cell_type": "code",
      "source": [
        "%%time\n",
        "# Reading the Data\n",
        "data = spark.read.csv(\"/content/drive/MyDrive/BDI_Project/diabetic_data.csv\", inferSchema=True,header=True)"
      ],
      "metadata": {
        "id": "3SLlj-Ieo6SG",
        "colab": {
          "base_uri": "https://localhost:8080/"
        },
        "outputId": "bc358949-d266-4b69-bca8-52f1ed6afd1f"
      },
      "execution_count": null,
      "outputs": [
        {
          "output_type": "stream",
          "name": "stdout",
          "text": [
            "CPU times: user 76.3 ms, sys: 9.46 ms, total: 85.8 ms\n",
            "Wall time: 7.59 s\n"
          ]
        }
      ]
    },
    {
      "cell_type": "code",
      "source": [
        "%%time\n",
        "# Inspecting the data \n",
        "print(data.show(20))"
      ],
      "metadata": {
        "colab": {
          "base_uri": "https://localhost:8080/"
        },
        "id": "Uy8JHK0hpJrm",
        "outputId": "b6cd4530-b63e-47fc-d51e-2bfc829cb84d"
      },
      "execution_count": null,
      "outputs": [
        {
          "output_type": "stream",
          "name": "stdout",
          "text": [
            "+------------+-----------+---------------+------+--------+------+-----------------+------------------------+-------------------+----------------+----------+--------------------+------------------+--------------+---------------+-----------------+----------------+----------------+------+------+------+----------------+-------------+---------+---------+-----------+-----------+--------------+-----------+-------------+---------+---------+-----------+------------+-------------+--------+--------+------------+----------+-------+-----------+-------+-------------------+-------------------+------------------------+-----------------------+----------------------+------+-----------+----------+\n",
            "|encounter_id|patient_nbr|           race|gender|     age|weight|admission_type_id|discharge_disposition_id|admission_source_id|time_in_hospital|payer_code|   medical_specialty|num_lab_procedures|num_procedures|num_medications|number_outpatient|number_emergency|number_inpatient|diag_1|diag_2|diag_3|number_diagnoses|max_glu_serum|A1Cresult|metformin|repaglinide|nateglinide|chlorpropamide|glimepiride|acetohexamide|glipizide|glyburide|tolbutamide|pioglitazone|rosiglitazone|acarbose|miglitol|troglitazone|tolazamide|examide|citoglipton|insulin|glyburide-metformin|glipizide-metformin|glimepiride-pioglitazone|metformin-rosiglitazone|metformin-pioglitazone|change|diabetesMed|readmitted|\n",
            "+------------+-----------+---------------+------+--------+------+-----------------+------------------------+-------------------+----------------+----------+--------------------+------------------+--------------+---------------+-----------------+----------------+----------------+------+------+------+----------------+-------------+---------+---------+-----------+-----------+--------------+-----------+-------------+---------+---------+-----------+------------+-------------+--------+--------+------------+----------+-------+-----------+-------+-------------------+-------------------+------------------------+-----------------------+----------------------+------+-----------+----------+\n",
            "|     2278392|    8222157|      Caucasian|Female|  [0-10)|     ?|                6|                      25|                  1|               1|         ?|Pediatrics-Endocr...|                41|             0|              1|                0|               0|               0|250.83|     ?|     ?|               1|         None|     None|       No|         No|         No|            No|         No|           No|       No|       No|         No|          No|           No|      No|      No|          No|        No|     No|         No|     No|                 No|                 No|                      No|                     No|                    No|    No|         No|        NO|\n",
            "|      149190|   55629189|      Caucasian|Female| [10-20)|     ?|                1|                       1|                  7|               3|         ?|                   ?|                59|             0|             18|                0|               0|               0|   276|250.01|   255|               9|         None|     None|       No|         No|         No|            No|         No|           No|       No|       No|         No|          No|           No|      No|      No|          No|        No|     No|         No|     Up|                 No|                 No|                      No|                     No|                    No|    Ch|        Yes|       >30|\n",
            "|       64410|   86047875|AfricanAmerican|Female| [20-30)|     ?|                1|                       1|                  7|               2|         ?|                   ?|                11|             5|             13|                2|               0|               1|   648|   250|   V27|               6|         None|     None|       No|         No|         No|            No|         No|           No|   Steady|       No|         No|          No|           No|      No|      No|          No|        No|     No|         No|     No|                 No|                 No|                      No|                     No|                    No|    No|        Yes|        NO|\n",
            "|      500364|   82442376|      Caucasian|  Male| [30-40)|     ?|                1|                       1|                  7|               2|         ?|                   ?|                44|             1|             16|                0|               0|               0|     8|250.43|   403|               7|         None|     None|       No|         No|         No|            No|         No|           No|       No|       No|         No|          No|           No|      No|      No|          No|        No|     No|         No|     Up|                 No|                 No|                      No|                     No|                    No|    Ch|        Yes|        NO|\n",
            "|       16680|   42519267|      Caucasian|  Male| [40-50)|     ?|                1|                       1|                  7|               1|         ?|                   ?|                51|             0|              8|                0|               0|               0|   197|   157|   250|               5|         None|     None|       No|         No|         No|            No|         No|           No|   Steady|       No|         No|          No|           No|      No|      No|          No|        No|     No|         No| Steady|                 No|                 No|                      No|                     No|                    No|    Ch|        Yes|        NO|\n",
            "|       35754|   82637451|      Caucasian|  Male| [50-60)|     ?|                2|                       1|                  2|               3|         ?|                   ?|                31|             6|             16|                0|               0|               0|   414|   411|   250|               9|         None|     None|       No|         No|         No|            No|         No|           No|       No|       No|         No|          No|           No|      No|      No|          No|        No|     No|         No| Steady|                 No|                 No|                      No|                     No|                    No|    No|        Yes|       >30|\n",
            "|       55842|   84259809|      Caucasian|  Male| [60-70)|     ?|                3|                       1|                  2|               4|         ?|                   ?|                70|             1|             21|                0|               0|               0|   414|   411|   V45|               7|         None|     None|   Steady|         No|         No|            No|     Steady|           No|       No|       No|         No|          No|           No|      No|      No|          No|        No|     No|         No| Steady|                 No|                 No|                      No|                     No|                    No|    Ch|        Yes|        NO|\n",
            "|       63768|  114882984|      Caucasian|  Male| [70-80)|     ?|                1|                       1|                  7|               5|         ?|                   ?|                73|             0|             12|                0|               0|               0|   428|   492|   250|               8|         None|     None|       No|         No|         No|            No|         No|           No|       No|   Steady|         No|          No|           No|      No|      No|          No|        No|     No|         No|     No|                 No|                 No|                      No|                     No|                    No|    No|        Yes|       >30|\n",
            "|       12522|   48330783|      Caucasian|Female| [80-90)|     ?|                2|                       1|                  4|              13|         ?|                   ?|                68|             2|             28|                0|               0|               0|   398|   427|    38|               8|         None|     None|       No|         No|         No|            No|         No|           No|   Steady|       No|         No|          No|           No|      No|      No|          No|        No|     No|         No| Steady|                 No|                 No|                      No|                     No|                    No|    Ch|        Yes|        NO|\n",
            "|       15738|   63555939|      Caucasian|Female|[90-100)|     ?|                3|                       3|                  4|              12|         ?|    InternalMedicine|                33|             3|             18|                0|               0|               0|   434|   198|   486|               8|         None|     None|       No|         No|         No|            No|         No|           No|       No|       No|         No|          No|       Steady|      No|      No|          No|        No|     No|         No| Steady|                 No|                 No|                      No|                     No|                    No|    Ch|        Yes|        NO|\n",
            "|       28236|   89869032|AfricanAmerican|Female| [40-50)|     ?|                1|                       1|                  7|               9|         ?|                   ?|                47|             2|             17|                0|               0|               0| 250.7|   403|   996|               9|         None|     None|       No|         No|         No|            No|         No|           No|       No|       No|         No|          No|           No|      No|      No|          No|        No|     No|         No| Steady|                 No|                 No|                      No|                     No|                    No|    No|        Yes|       >30|\n",
            "|       36900|   77391171|AfricanAmerican|  Male| [60-70)|     ?|                2|                       1|                  4|               7|         ?|                   ?|                62|             0|             11|                0|               0|               0|   157|   288|   197|               7|         None|     None|       No|         No|         No|            No|         No|           No|       No|       Up|         No|          No|           No|      No|      No|          No|        No|     No|         No| Steady|                 No|                 No|                      No|                     No|                    No|    Ch|        Yes|       <30|\n",
            "|       40926|   85504905|      Caucasian|Female| [40-50)|     ?|                1|                       3|                  7|               7|         ?|Family/GeneralPra...|                60|             0|             15|                0|               1|               0|   428|250.43| 250.6|               8|         None|     None|   Steady|         Up|         No|            No|         No|           No|       No|       No|         No|          No|           No|      No|      No|          No|        No|     No|         No|   Down|                 No|                 No|                      No|                     No|                    No|    Ch|        Yes|       <30|\n",
            "|       42570|   77586282|      Caucasian|  Male| [80-90)|     ?|                1|                       6|                  7|              10|         ?|Family/GeneralPra...|                55|             1|             31|                0|               0|               0|   428|   411|   427|               8|         None|     None|       No|         No|         No|            No|         No|           No|       No|       No|         No|          No|           No|      No|      No|          No|        No|     No|         No| Steady|                 No|                 No|                      No|                     No|                    No|    No|        Yes|        NO|\n",
            "|       62256|   49726791|AfricanAmerican|Female| [60-70)|     ?|                3|                       1|                  2|               1|         ?|                   ?|                49|             5|              2|                0|               0|               0|   518|   998|   627|               8|         None|     None|       No|         No|         No|            No|         No|           No|       No|       No|         No|          No|           No|      No|      No|          No|        No|     No|         No| Steady|                 No|                 No|                      No|                     No|                    No|    No|        Yes|       >30|\n",
            "|       73578|   86328819|AfricanAmerican|  Male| [60-70)|     ?|                1|                       3|                  7|              12|         ?|                   ?|                75|             5|             13|                0|               0|               0|   999|   507|   996|               9|         None|     None|       No|         No|         No|            No|         No|           No|       No|       No|         No|          No|           No|      No|      No|          No|        No|     No|         No|     Up|                 No|                 No|                      No|                     No|                    No|    Ch|        Yes|        NO|\n",
            "|       77076|   92519352|AfricanAmerican|  Male| [50-60)|     ?|                1|                       1|                  7|               4|         ?|                   ?|                45|             4|             17|                0|               0|               0|   410|   411|   414|               8|         None|     None|       No|         No|         No|            No|         No|           No|   Steady|       No|         No|          No|           No|      No|      No|          No|        No|     No|         No| Steady|                 No|                 No|                      No|                     No|                    No|    Ch|        Yes|       <30|\n",
            "|       84222|  108662661|      Caucasian|Female| [50-60)|     ?|                1|                       1|                  7|               3|         ?|          Cardiology|                29|             0|             11|                0|               0|               0|   682|   174|   250|               3|         None|     None|       No|         No|         No|            No|         No|           No|       No|   Steady|         No|          No|           No|      No|      No|          No|        No|     No|         No|     No|                 No|                 No|                      No|                     No|                    No|    No|        Yes|        NO|\n",
            "|       89682|  107389323|AfricanAmerican|  Male| [70-80)|     ?|                1|                       1|                  7|               5|         ?|                   ?|                35|             5|             23|                0|               0|               0|   402|   425|   416|               9|         None|     None|       No|         No|         No|            No|         No|           No|       No|       No|         No|          No|           No|      No|      No|          No|        No|     No|         No| Steady|                 No|                 No|                      No|                     No|                    No|    No|        Yes|       >30|\n",
            "|      148530|   69422211|              ?|  Male| [70-80)|     ?|                3|                       6|                  2|               6|         ?|                   ?|                42|             2|             23|                0|               0|               0|   737|   427|   714|               8|         None|     None|       No|         No|         No|            No|         No|           No|       No|     Down|         No|          No|           No|      No|      No|          No|        No|     No|         No| Steady|                 No|                 No|                      No|                     No|                    No|    Ch|        Yes|        NO|\n",
            "+------------+-----------+---------------+------+--------+------+-----------------+------------------------+-------------------+----------------+----------+--------------------+------------------+--------------+---------------+-----------------+----------------+----------------+------+------+------+----------------+-------------+---------+---------+-----------+-----------+--------------+-----------+-------------+---------+---------+-----------+------------+-------------+--------+--------+------------+----------+-------+-----------+-------+-------------------+-------------------+------------------------+-----------------------+----------------------+------+-----------+----------+\n",
            "only showing top 20 rows\n",
            "\n",
            "None\n",
            "CPU times: user 8.35 ms, sys: 77 µs, total: 8.43 ms\n",
            "Wall time: 904 ms\n"
          ]
        }
      ]
    },
    {
      "cell_type": "code",
      "source": [
        "%%time\n",
        "# Making a copy for preprocessing\n",
        "data = data.alias(\"data_copy\")"
      ],
      "metadata": {
        "id": "V8z1HkM_pNtP",
        "colab": {
          "base_uri": "https://localhost:8080/"
        },
        "outputId": "1acf3800-14f3-4019-ac96-4a70761bed7c"
      },
      "execution_count": null,
      "outputs": [
        {
          "output_type": "stream",
          "name": "stdout",
          "text": [
            "CPU times: user 3.56 ms, sys: 0 ns, total: 3.56 ms\n",
            "Wall time: 51.5 ms\n"
          ]
        }
      ]
    },
    {
      "cell_type": "markdown",
      "source": [
        "**Before moving on to actual modeling, some wrangling with the data is always needed like 'Cleaning tasks' such as dropping bad data, dealing with missing values,etc.**"
      ],
      "metadata": {
        "id": "_NgzxN8Opf3e"
      }
    },
    {
      "cell_type": "markdown",
      "source": [
        "**Handling Missing Values (find out how many missing values are coded as “?” for most variables in the data):**"
      ],
      "metadata": {
        "id": "fiIZsGpxwIyl"
      }
    },
    {
      "cell_type": "code",
      "source": [
        "%%time\n",
        "# Find rows with '?'(missing) as values\n",
        "for col in data.columns:\n",
        "    if data.schema[col].dataType == StringType():\n",
        "        missing_count = data.filter(\"`{}` like '%{}%'\".format(col, '?')).count()\n",
        "        print(col, missing_count)"
      ],
      "metadata": {
        "colab": {
          "base_uri": "https://localhost:8080/"
        },
        "id": "rxxzXpHXgJCm",
        "outputId": "5cbc4e0b-d365-446d-d6df-5ffffda0bf89"
      },
      "execution_count": null,
      "outputs": [
        {
          "output_type": "stream",
          "name": "stdout",
          "text": [
            "race 2273\n",
            "gender 0\n",
            "age 0\n",
            "weight 98569\n",
            "payer_code 40256\n",
            "medical_specialty 49949\n",
            "diag_1 21\n",
            "diag_2 358\n",
            "diag_3 1423\n",
            "max_glu_serum 0\n",
            "A1Cresult 0\n",
            "metformin 0\n",
            "repaglinide 0\n",
            "nateglinide 0\n",
            "chlorpropamide 0\n",
            "glimepiride 0\n",
            "acetohexamide 0\n",
            "glipizide 0\n",
            "glyburide 0\n",
            "tolbutamide 0\n",
            "pioglitazone 0\n",
            "rosiglitazone 0\n",
            "acarbose 0\n",
            "miglitol 0\n",
            "troglitazone 0\n",
            "tolazamide 0\n",
            "examide 0\n",
            "citoglipton 0\n",
            "insulin 0\n",
            "glyburide-metformin 0\n",
            "glipizide-metformin 0\n",
            "glimepiride-pioglitazone 0\n",
            "metformin-rosiglitazone 0\n",
            "metformin-pioglitazone 0\n",
            "change 0\n",
            "diabetesMed 0\n",
            "readmitted 0\n",
            "CPU times: user 381 ms, sys: 28.7 ms, total: 409 ms\n",
            "Wall time: 42 s\n"
          ]
        }
      ]
    },
    {
      "cell_type": "markdown",
      "source": [
        "**With 'gender' column being coded differently ,we use a custom count for this variable**"
      ],
      "metadata": {
        "id": "jJZj2ayXwnBR"
      }
    },
    {
      "cell_type": "code",
      "source": [
        "%%time\n",
        "from pyspark.sql.functions import col\n",
        "\n",
        "# Count the number of rows where the 'gender' column has a value of 'Unknown/Invalid'(treated as missing)\n",
        "print('gender', data.filter(col('gender') == 'Unknown/Invalid').count())"
      ],
      "metadata": {
        "colab": {
          "base_uri": "https://localhost:8080/"
        },
        "id": "MC2LDpyaqGUO",
        "outputId": "8b3c62a1-45f2-4958-f62c-e4ddd77424b4"
      },
      "execution_count": null,
      "outputs": [
        {
          "output_type": "stream",
          "name": "stdout",
          "text": [
            "gender 3\n",
            "CPU times: user 11.2 ms, sys: 0 ns, total: 11.2 ms\n",
            "Wall time: 640 ms\n"
          ]
        }
      ]
    },
    {
      "cell_type": "markdown",
      "source": [
        "**Dropping Columns (drop columns which have a large portion of its records being 'missing')**"
      ],
      "metadata": {
        "id": "TYVyWmIKqbXv"
      }
    },
    {
      "cell_type": "code",
      "source": [
        "%%time\n",
        "# 'Weight' column was dropped as it was missing in almost 98% of all rows\n",
        "# 'payer_code' and 'medical_speciality' was dropped as it was missing in around 50% of all rows\n",
        "#  All rows in 'citoglipton' and  'examide' have the same value (does not provide any analytical information). Hence they were dropped\n",
        "from pyspark.sql.functions import col\n",
        "\n",
        "data = data.select([col for col in data.columns if col not in ['weight','payer_code','medical_specialty','citoglipton', 'examide']])\n"
      ],
      "metadata": {
        "id": "0EX9XYSTgZce",
        "colab": {
          "base_uri": "https://localhost:8080/"
        },
        "outputId": "f08a47bd-200c-4544-9079-9fdf8efc0e3d"
      },
      "execution_count": null,
      "outputs": [
        {
          "output_type": "stream",
          "name": "stdout",
          "text": [
            "CPU times: user 22.8 ms, sys: 3.82 ms, total: 26.7 ms\n",
            "Wall time: 152 ms\n"
          ]
        }
      ]
    },
    {
      "cell_type": "code",
      "source": [
        "%%time\n",
        "#Add an 'index' column to the DataFrame\n",
        "data = data.withColumn('index', monotonically_increasing_id())\n",
        "\n",
        "# Create a set of index values where 'diag_1', 'diag_2', 'diag_3', or 'race' is equal to '?'\n",
        "data1 = set(data.filter((col('diag_1') == '?') & (col('diag_2') == '?') & (col('diag_3') == '?'))\n",
        "            .rdd.map(lambda x: x['index']).collect())\n",
        "\n",
        "data1 = data1.union(set(data.filter(col('diag_1') == '?')\n",
        "                        .rdd.map(lambda x: x['index']).collect()))\n",
        "data1 = data1.union(set(data.filter(col('diag_2') == '?')\n",
        "                        .rdd.map(lambda x: x['index']).collect()))\n",
        "data1 = data1.union(set(data.filter(col('diag_3') == '?')\n",
        "                        .rdd.map(lambda x: x['index']).collect()))\n",
        "data1 = data1.union(set(data.filter(col('race') == '?')\n",
        "                        .rdd.map(lambda x: x['index']).collect()))\n",
        "\n",
        "# Patients who passed away while being admitted to the hospital had no chance of being readmitted (in this case ,'discharge_disposition_id'= 11 )\n",
        "# Add the index values of rows where 'discharge_disposition_id' is equal to 11\n",
        "data1 = data1.union(set(data.filter(col('discharge_disposition_id') == 11)\n",
        "                        .rdd.map(lambda x: x['index']).collect()))\n",
        "\n",
        "# 'gender' column has only 3 missing values. Hence those records are dropped\n",
        "# Add the index values of rows where 'gender' is equal to 'Unknown/Invalid'\n",
        "data1 = data1.union(set(data.filter(col('gender') == 'Unknown/Invalid')\n",
        "                        .rdd.map(lambda x: x['index']).collect()))\n",
        "\n",
        "# Create a list of index values to keep (Subtract 'data1' from all the index values in data to produce the new list of index values 'updated_index')\n",
        "updated_index = list(set(data.rdd.map(lambda x: x['index']).collect()) - data1)\n",
        "\n",
        "# Only keep the rows with the updated index values\n",
        "data = data.filter(col('index').isin(updated_index))\n"
      ],
      "metadata": {
        "id": "G5C4VMNKvtQG",
        "colab": {
          "base_uri": "https://localhost:8080/"
        },
        "outputId": "0c490b59-710b-4037-9809-2dc6e8cc9e2a"
      },
      "execution_count": null,
      "outputs": [
        {
          "output_type": "stream",
          "name": "stdout",
          "text": [
            "CPU times: user 28 s, sys: 7.21 s, total: 35.2 s\n",
            "Wall time: 2min 30s\n"
          ]
        }
      ]
    },
    {
      "cell_type": "code",
      "source": [
        "%%time\n",
        "print((data.count(), len(data.columns)))"
      ],
      "metadata": {
        "colab": {
          "base_uri": "https://localhost:8080/"
        },
        "id": "JKsOb_CYz7DX",
        "outputId": "c25a6955-e25f-47a5-c410-d91b380685cc"
      },
      "execution_count": null,
      "outputs": [
        {
          "output_type": "stream",
          "name": "stdout",
          "text": [
            "(96446, 46)\n",
            "CPU times: user 30.3 ms, sys: 6.88 ms, total: 37.1 ms\n",
            "Wall time: 4.73 s\n"
          ]
        }
      ]
    },
    {
      "cell_type": "code",
      "source": [
        "%%time\n",
        "# Compute the number of distinct values in each column\n",
        "distinct_counts = data.agg(*[countDistinct(c).alias(c) for c in data.columns])\n",
        "# Show the result\n",
        "distinct_counts.show()"
      ],
      "metadata": {
        "colab": {
          "base_uri": "https://localhost:8080/"
        },
        "id": "nxcbRT-J0pNP",
        "outputId": "7d69a99f-9f8f-422e-80e4-1fe7e3c08bb9"
      },
      "execution_count": null,
      "outputs": [
        {
          "output_type": "stream",
          "name": "stdout",
          "text": [
            "+------------+-----------+----+------+---+-----------------+------------------------+-------------------+----------------+------------------+--------------+---------------+-----------------+----------------+----------------+------+------+------+----------------+-------------+---------+---------+-----------+-----------+--------------+-----------+-------------+---------+---------+-----------+------------+-------------+--------+--------+------------+----------+-------+-------------------+-------------------+------------------------+-----------------------+----------------------+------+-----------+----------+-----+\n",
            "|encounter_id|patient_nbr|race|gender|age|admission_type_id|discharge_disposition_id|admission_source_id|time_in_hospital|num_lab_procedures|num_procedures|num_medications|number_outpatient|number_emergency|number_inpatient|diag_1|diag_2|diag_3|number_diagnoses|max_glu_serum|A1Cresult|metformin|repaglinide|nateglinide|chlorpropamide|glimepiride|acetohexamide|glipizide|glyburide|tolbutamide|pioglitazone|rosiglitazone|acarbose|miglitol|troglitazone|tolazamide|insulin|glyburide-metformin|glipizide-metformin|glimepiride-pioglitazone|metformin-rosiglitazone|metformin-pioglitazone|change|diabetesMed|readmitted|index|\n",
            "+------------+-----------+----+------+---+-----------------+------------------------+-------------------+----------------+------------------+--------------+---------------+-----------------+----------------+----------------+------+------+------+----------------+-------------+---------+---------+-----------+-----------+--------------+-----------+-------------+---------+---------+-----------+------------+-------------+--------+--------+------------+----------+-------+-------------------+-------------------+------------------------+-----------------------+----------------------+------+-----------+----------+-----+\n",
            "|       96446|      67580|   5|     2| 10|                8|                      25|                 17|              14|               118|             7|             75|               39|              33|              20|   712|   739|   784|              14|            4|        4|        4|          4|          4|             4|          4|            2|        4|        4|          2|           4|            4|       4|       4|           2|         3|      4|                  4|                  2|                       2|                      1|                     2|     2|          2|         3|96446|\n",
            "+------------+-----------+----+------+---+-----------------+------------------------+-------------------+----------------+------------------+--------------+---------------+-----------------+----------------+----------------+------+------+------+----------------+-------------+---------+---------+-----------+-----------+--------------+-----------+-------------+---------+---------+-----------+------------+-------------+--------+--------+------------+----------+-------+-------------------+-------------------+------------------------+-----------------------+----------------------+------+-----------+----------+-----+\n",
            "\n",
            "CPU times: user 221 ms, sys: 24.5 ms, total: 246 ms\n",
            "Wall time: 28.8 s\n"
          ]
        }
      ]
    },
    {
      "cell_type": "markdown",
      "source": [
        "# **Feature Engineering**"
      ],
      "metadata": {
        "id": "CZKFn136Sxfe"
      }
    },
    {
      "cell_type": "markdown",
      "source": [
        "**Converting the datatypes**"
      ],
      "metadata": {
        "id": "kEu4oBWZaa45"
      }
    },
    {
      "cell_type": "code",
      "source": [
        "%%time\n",
        "data = data.withColumn('number_outpatient', data['number_outpatient'].cast(DoubleType()))\n",
        "data = data.withColumn('number_inpatient', data['number_inpatient'].cast(DoubleType()))\n",
        "data = data.withColumn('number_emergency', data['number_emergency'].cast(DoubleType()))\n",
        "data = data.withColumn('acetohexamide', when(data['acetohexamide'] == 'No', 0).otherwise(data['acetohexamide']))\n",
        "data = data.withColumn('metformin-rosiglitazone', when(data['metformin-rosiglitazone'] == 'No', 0).otherwise(data['metformin-rosiglitazone']))\n",
        "data = data.withColumn('acetohexamide', data['acetohexamide'].cast('double'))\n",
        "data = data.withColumn('metformin-rosiglitazone', data['metformin-rosiglitazone'].cast('double'))"
      ],
      "metadata": {
        "id": "j-Cy8ZuzDvQK",
        "colab": {
          "base_uri": "https://localhost:8080/"
        },
        "outputId": "a9af55e9-c9ea-4d9b-ca33-c84a8e481ec1"
      },
      "execution_count": null,
      "outputs": [
        {
          "output_type": "stream",
          "name": "stdout",
          "text": [
            "CPU times: user 32.2 ms, sys: 4.94 ms, total: 37.2 ms\n",
            "Wall time: 2.89 s\n"
          ]
        }
      ]
    },
    {
      "cell_type": "code",
      "source": [
        "# columns_to_drop = [\"diag_1\", \"diag_2\",\"diag_3\"]\n",
        "# data = data.drop(*columns_to_drop)"
      ],
      "metadata": {
        "id": "zopAE1NhOApu"
      },
      "execution_count": null,
      "outputs": []
    },
    {
      "cell_type": "markdown",
      "source": [
        "**Segregrating the Categorical and Numerical Columns**"
      ],
      "metadata": {
        "id": "r3nPOjytaoL7"
      }
    },
    {
      "cell_type": "code",
      "source": [
        "%%time\n",
        "# Get the datatypes of the columns\n",
        "column_datatypes = data.dtypes\n",
        "# Initialize lists for categorical and numeric column names\n",
        "categorical_columns = []\n",
        "numeric_columns = []\n",
        "\n",
        "# Iterate over the column datatypes\n",
        "for column, datatype in column_datatypes:\n",
        "    if datatype == 'string':\n",
        "        categorical_columns.append(column)\n",
        "    else:\n",
        "        numeric_columns.append(column)\n",
        "\n",
        "# Show the result\n",
        "print('Categorical columns: ' + str(categorical_columns))\n",
        "print('Numeric columns: ' + str(numeric_columns))"
      ],
      "metadata": {
        "id": "t4SsZLpoDywA",
        "colab": {
          "base_uri": "https://localhost:8080/"
        },
        "outputId": "587a74ac-672b-419a-fa07-1364d6fc5667"
      },
      "execution_count": null,
      "outputs": [
        {
          "output_type": "stream",
          "name": "stdout",
          "text": [
            "Categorical columns: ['race', 'gender', 'age', 'diag_1', 'diag_2', 'diag_3', 'max_glu_serum', 'A1Cresult', 'metformin', 'repaglinide', 'nateglinide', 'chlorpropamide', 'glimepiride', 'glipizide', 'glyburide', 'tolbutamide', 'pioglitazone', 'rosiglitazone', 'acarbose', 'miglitol', 'troglitazone', 'tolazamide', 'insulin', 'glyburide-metformin', 'glipizide-metformin', 'glimepiride-pioglitazone', 'metformin-pioglitazone', 'change', 'diabetesMed', 'readmitted']\n",
            "Numeric columns: ['encounter_id', 'patient_nbr', 'admission_type_id', 'discharge_disposition_id', 'admission_source_id', 'time_in_hospital', 'num_lab_procedures', 'num_procedures', 'num_medications', 'number_outpatient', 'number_emergency', 'number_inpatient', 'number_diagnoses', 'acetohexamide', 'metformin-rosiglitazone', 'index']\n",
            "CPU times: user 1.42 ms, sys: 0 ns, total: 1.42 ms\n",
            "Wall time: 5.18 ms\n"
          ]
        }
      ]
    },
    {
      "cell_type": "markdown",
      "source": [
        "**Creating the boxplots to show the distribution of each column**"
      ],
      "metadata": {
        "id": "9RhrAiaSbM8P"
      }
    },
    {
      "cell_type": "code",
      "source": [
        "%%time\n",
        "pandas_df = data.toPandas()\n",
        "# Create subplots for each numeric column\n",
        "for col in numeric_columns:\n",
        "    sns.boxplot(x=pandas_df[col].dropna())\n",
        "    plt.title(col)\n",
        "    plt.show()\n",
        "print((data.count(), len(data.columns)))"
      ],
      "metadata": {
        "colab": {
          "base_uri": "https://localhost:8080/",
          "height": 1000
        },
        "id": "75pKlgq5mf-b",
        "outputId": "a79e9c10-3672-42ac-938f-8abf7a564da4"
      },
      "execution_count": null,
      "outputs": [
        {
          "output_type": "display_data",
          "data": {
            "text/plain": [
              "<Figure size 640x480 with 1 Axes>"
            ],
            "image/png": "[encoded data removed]"
          },
          "metadata": {}
        },
        {
          "output_type": "display_data",
          "data": {
            "text/plain": [
              "<Figure size 640x480 with 1 Axes>"
            ],
            "image/png": "[encoded data removed]"
          },
          "metadata": {}
        },
        {
          "output_type": "display_data",
          "data": {
            "text/plain": [
              "<Figure size 640x480 with 1 Axes>"
            ],
            "image/png": "[encoded data removed]"
          },
          "metadata": {}
        },
        {
          "output_type": "display_data",
          "data": {
            "text/plain": [
              "<Figure size 640x480 with 1 Axes>"
            ],
            "image/png": "[encoded data removed]"
          },
          "metadata": {}
        },
        {
          "output_type": "display_data",
          "data": {
            "text/plain": [
              "<Figure size 640x480 with 1 Axes>"
            ],
            "image/png": "[encoded data removed]"
          },
          "metadata": {}
        },
        {
          "output_type": "display_data",
          "data": {
            "text/plain": [
              "<Figure size 640x480 with 1 Axes>"
            ],
            "image/png": "[encoded data removed]"
          },
          "metadata": {}
        },
        {
          "output_type": "display_data",
          "data": {
            "text/plain": [
              "<Figure size 640x480 with 1 Axes>"
            ],
            "image/png": "[encoded data removed]"
          },
          "metadata": {}
        },
        {
          "output_type": "display_data",
          "data": {
            "text/plain": [
              "<Figure size 640x480 with 1 Axes>"
            ],
            "image/png": "[encoded data removed]"
          },
          "metadata": {}
        },
        {
          "output_type": "display_data",
          "data": {
            "text/plain": [
              "<Figure size 640x480 with 1 Axes>"
            ],
            "image/png": "[encoded data removed]"
          },
          "metadata": {}
        },
        {
          "output_type": "display_data",
          "data": {
            "text/plain": [
              "<Figure size 640x480 with 1 Axes>"
            ],
            "image/png": "[encoded data removed]"
          },
          "metadata": {}
        },
        {
          "output_type": "display_data",
          "data": {
            "text/plain": [
              "<Figure size 640x480 with 1 Axes>"
            ],
            "image/png": "[encoded data removed]"
          },
          "metadata": {}
        },
        {
          "output_type": "display_data",
          "data": {
            "text/plain": [
              "<Figure size 640x480 with 1 Axes>"
            ],
            "image/png": "[encoded data removed]"
          },
          "metadata": {}
        },
        {
          "output_type": "display_data",
          "data": {
            "text/plain": [
              "<Figure size 640x480 with 1 Axes>"
            ],
            "image/png": "[encoded data removed]"
          },
          "metadata": {}
        },
        {
          "output_type": "display_data",
          "data": {
            "text/plain": [
              "<Figure size 640x480 with 1 Axes>"
            ],
            "image/png": "[encoded data removed]"
          },
          "metadata": {}
        },
        {
          "output_type": "display_data",
          "data": {
            "text/plain": [
              "<Figure size 640x480 with 1 Axes>"
            ],
            "image/png": "[encoded data removed]"
          },
          "metadata": {}
        },
        {
          "output_type": "display_data",
          "data": {
            "text/plain": [
              "<Figure size 640x480 with 1 Axes>"
            ],
            "image/png": "[encoded data removed]"
          },
          "metadata": {}
        },
        {
          "output_type": "stream",
          "name": "stdout",
          "text": [
            "(96446, 46)\n",
            "CPU times: user 5.5 s, sys: 2.43 s, total: 7.92 s\n",
            "Wall time: 24.4 s\n"
          ]
        }
      ]
    },
    {
      "cell_type": "code",
      "source": [
        "# %%time\n",
        "# # Iterate over the numeric columns\n",
        "# for column in numeric_columns:\n",
        "#     # Compute Tukey's fences for the column\n",
        "#     q1, q3 = data.approxQuantile(column, [0.25, 0.75], 0.01)\n",
        "#     iqr = q3 - q1\n",
        "#     lower_fence = q1 - 1.5 * iqr\n",
        "#     upper_fence = q3 + 1.5 * iqr\n",
        "\n",
        "#     # Filter out any values outside the fences\n",
        "#     data = data.filter((data[column] >= lower_fence) & (data[column] <= upper_fence))"
      ],
      "metadata": {
        "id": "xy5225NBpsI9"
      },
      "execution_count": null,
      "outputs": []
    },
    {
      "cell_type": "markdown",
      "source": [
        "**Creating new features and logically encoding the original features**"
      ],
      "metadata": {
        "id": "oBxEBPDfUWQI"
      }
    },
    {
      "cell_type": "code",
      "source": [
        "## Feature 1: Service Utilization\n",
        "from pyspark.sql.functions import *\n",
        "data=data.withColumn('service_utilization', col('number_outpatient') + col('number_emergency') + col('number_inpatient'))"
      ],
      "metadata": {
        "id": "fMHNsYypDOpk"
      },
      "execution_count": null,
      "outputs": []
    },
    {
      "cell_type": "code",
      "source": [
        "keys = ['metformin', 'repaglinide', 'nateglinide', 'chlorpropamide', 'glimepiride', 'glipizide', 'glyburide', 'pioglitazone', 'rosiglitazone', 'acarbose', 'miglitol', 'insulin', 'glyburide-metformin', 'tolazamide', 'metformin-pioglitazone','metformin-rosiglitazone', 'glimepiride-pioglitazone', 'glipizide-metformin', 'troglitazone', 'tolbutamide', 'acetohexamide']\n",
        "data = data.withColumn('numchange', lit(0))\n",
        "for i in keys:\n",
        "    colname = i + 'temp'\n",
        "    data = data.withColumn(colname, when((col(i) == 'No') | (col(i) == 'Steady'), 0).otherwise(1))\n",
        "    data = data.withColumn('numchange', col('numchange') + col(colname))\n",
        "    data = data.drop(colname)"
      ],
      "metadata": {
        "id": "g010kmudcp87"
      },
      "execution_count": null,
      "outputs": []
    },
    {
      "cell_type": "code",
      "source": [
        "# create a duplicate of the diagnosis column\n",
        "data = data.withColumn(\"level1_diag1\", col(\"diag_1\"))\n",
        "\n",
        "# disease codes starting with V or E are in “other” category; so recode them to 0\n",
        "data = data.withColumn(\"level1_diag1\", when(col(\"diag_1\").contains(\"V\") | col(\"diag_1\").contains(\"E\"), 0).otherwise(col(\"level1_diag1\")))\n",
        "\n",
        "# also replace the unknown values with -1\n",
        "data=data.withColumn(\"level1_diag1\", when(col(\"level1_diag1\") == \"?\", -1).otherwise(col(\"level1_diag1\")))\n",
        "\n",
        "# recode disease codes between certain ranges to certain categories\n",
        "data=data.withColumn(\"level1_diag1\", when((col(\"level1_diag1\") >= 390) & (col(\"level1_diag1\") < 460) | (floor(col(\"level1_diag1\")) == 785), 1)\n",
        "                                 .when((col(\"level1_diag1\") >= 460) & (col(\"level1_diag1\") < 520) | (floor(col(\"level1_diag1\")) == 786), 2)\n",
        "                                 .when((col(\"level1_diag1\") >= 520) & (col(\"level1_diag1\") < 580) | (floor(col(\"level1_diag1\")) == 787), 3)\n",
        "                                 .when(floor(col(\"level1_diag1\")) == 250, 4)\n",
        "                                 .when((col(\"level1_diag1\") >= 800) & (col(\"level1_diag1\") < 1000), 5)\n",
        "                                 .when((col(\"level1_diag1\") >= 710) & (col(\"level1_diag1\") < 740), 6)\n",
        "                                 .when((col(\"level1_diag1\") >= 580) & (col(\"level1_diag1\") < 630) | (floor(col(\"level1_diag1\")) == 788), 7)\n",
        "                                 .when((col(\"level1_diag1\") >= 140) & (col(\"level1_diag1\") < 240), 8)\n",
        "                                 .otherwise(0))\n",
        "\n",
        "# convert this variable to float type to enable computations later\n",
        "data=data.withColumn(\"level1_diag1\", col(\"level1_diag1\").cast(\"float\"))"
      ],
      "metadata": {
        "id": "SY5EWXxAcE2l"
      },
      "execution_count": null,
      "outputs": []
    },
    {
      "cell_type": "code",
      "source": [
        "from pyspark.sql.functions import when, col\n",
        "data = data.withColumn(\"admission_type_id\", when(col(\"admission_type_id\") == 2, 1)\n",
        "                      .when(col(\"admission_type_id\") == 7, 1)\n",
        "                      .when(col(\"admission_type_id\") == 6, 5)\n",
        "                      .when(col(\"admission_type_id\") == 8, 5)\n",
        "                      .otherwise(col(\"admission_type_id\")))\n"
      ],
      "metadata": {
        "id": "fHfq-pbCcCdJ"
      },
      "execution_count": null,
      "outputs": []
    },
    {
      "cell_type": "code",
      "source": [
        "from pyspark.sql.functions import when\n",
        "data=data.withColumn('change', when(data['change'] == 'Ch', 1).otherwise(0))\n",
        "data=data.withColumn('gender', when(data['gender'] == 'Male', 1).otherwise(0))\n",
        "data=data.withColumn('diabetesMed', when(data['diabetesMed'] == 'Yes', 1).otherwise(0))\n",
        "for col in keys:\n",
        "    data=data.withColumn(col, when((data[col] == 'No') | (data[col] == 'Steady') | (data[col] == 'Up') | (data[col] == 'Down'), 1).otherwise(0))"
      ],
      "metadata": {
        "id": "fPHp3jg-h48Z"
      },
      "execution_count": null,
      "outputs": []
    },
    {
      "cell_type": "code",
      "source": [
        "from pyspark.sql.functions import when\n",
        "data=data.withColumn('A1Cresult', when(data['A1Cresult'] == '>7', 1)\n",
        "                                 .when(data['A1Cresult'] == '>8', 1)\n",
        "                                 .when(data['A1Cresult'] == 'Norm', 0)\n",
        "                                 .when(data['A1Cresult'] == 'None', -99))\n",
        "data=data.withColumn('max_glu_serum', when(data['max_glu_serum'] == '>200', 1)\n",
        "                                    .when(data['max_glu_serum'] == '>300', 1)\n",
        "                                    .when(data['max_glu_serum'] == 'Norm', 0)\n",
        "                                    .when(data['max_glu_serum'] == 'None', -99))"
      ],
      "metadata": {
        "id": "PJGbqw5GiY11"
      },
      "execution_count": null,
      "outputs": []
    },
    {
      "cell_type": "code",
      "source": [
        "data=data.withColumn('readmitted', when(data['readmitted'] == '>30', 0).when(data['readmitted'] == '<30', 1).when(data['readmitted'] == 'NO', 0).otherwise(None))"
      ],
      "metadata": {
        "id": "tlCvetdQjE0F"
      },
      "execution_count": null,
      "outputs": []
    },
    {
      "cell_type": "code",
      "source": [
        "data=data.withColumn('age', when(data['age'] == '[0-10)', 5).when(data['age'] == '[10-20)', 15).when(data['age'] == '[20-30)', 25).when(data['age'] == '[30-40)', 35).when(data['age'] == '[40-50)', 45).when(data['age'] == '[50-60)', 55).when(data['age'] == '[60-70)', 65).when(data['age'] == '[70-80)', 75).when(data['age'] == '[80-90)', 85).when(data['age'] == '[90-100)', 95).otherwise(0))"
      ],
      "metadata": {
        "id": "iu5RL5bvnt2U"
      },
      "execution_count": null,
      "outputs": []
    },
    {
      "cell_type": "code",
      "source": [
        "data=data.withColumn('race', when(data['race'] == 'Caucasian', 1)\n",
        "                                 .when(data['race'] == 'Other', 0)\n",
        "                                 .when(data['race'] == 'AfricanAmerican', 2)\n",
        "                                 .when(data['race'] == 'Hispanic', 3)\n",
        "                                 .when(data['race'] == 'Asian', 4))"
      ],
      "metadata": {
        "id": "NCCKwEWlsGvQ"
      },
      "execution_count": null,
      "outputs": []
    },
    {
      "cell_type": "code",
      "source": [
        "data.show(2)"
      ],
      "metadata": {
        "id": "62faf1HPo34V",
        "colab": {
          "base_uri": "https://localhost:8080/"
        },
        "outputId": "0dd68469-d6a3-46e6-d870-9ed945438cae"
      },
      "execution_count": null,
      "outputs": [
        {
          "output_type": "stream",
          "name": "stdout",
          "text": [
            "+------------+-----------+----+------+---+-----------------+------------------------+-------------------+----------------+------------------+--------------+---------------+-----------------+----------------+----------------+------+------+------+----------------+-------------+---------+---------+-----------+-----------+--------------+-----------+-------------+---------+---------+-----------+------------+-------------+--------+--------+------------+----------+-------+-------------------+-------------------+------------------------+-----------------------+----------------------+------+-----------+----------+-----+-------------------+---------+------------+\n",
            "|encounter_id|patient_nbr|race|gender|age|admission_type_id|discharge_disposition_id|admission_source_id|time_in_hospital|num_lab_procedures|num_procedures|num_medications|number_outpatient|number_emergency|number_inpatient|diag_1|diag_2|diag_3|number_diagnoses|max_glu_serum|A1Cresult|metformin|repaglinide|nateglinide|chlorpropamide|glimepiride|acetohexamide|glipizide|glyburide|tolbutamide|pioglitazone|rosiglitazone|acarbose|miglitol|troglitazone|tolazamide|insulin|glyburide-metformin|glipizide-metformin|glimepiride-pioglitazone|metformin-rosiglitazone|metformin-pioglitazone|change|diabetesMed|readmitted|index|service_utilization|numchange|level1_diag1|\n",
            "+------------+-----------+----+------+---+-----------------+------------------------+-------------------+----------------+------------------+--------------+---------------+-----------------+----------------+----------------+------+------+------+----------------+-------------+---------+---------+-----------+-----------+--------------+-----------+-------------+---------+---------+-----------+------------+-------------+--------+--------+------------+----------+-------+-------------------+-------------------+------------------------+-----------------------+----------------------+------+-----------+----------+-----+-------------------+---------+------------+\n",
            "|      149190|   55629189|   1|     0| 15|                1|                       1|                  7|               3|                59|             0|             18|              0.0|             0.0|             0.0|   276|250.01|   255|               9|          -99|      -99|        1|          1|          1|             1|          1|            0|        1|        1|          1|           1|            1|       1|       1|           1|         1|      1|                  1|                  1|                       1|                      0|                     1|     1|          1|         0|    1|                0.0|        3|         0.0|\n",
            "|       64410|   86047875|   2|     0| 25|                1|                       1|                  7|               2|                11|             5|             13|              2.0|             0.0|             1.0|   648|   250|   V27|               6|          -99|      -99|        1|          1|          1|             1|          1|            0|        1|        1|          1|           1|            1|       1|       1|           1|         1|      1|                  1|                  1|                       1|                      0|                     1|     0|          1|         0|    2|                3.0|        2|         0.0|\n",
            "+------------+-----------+----+------+---+-----------------+------------------------+-------------------+----------------+------------------+--------------+---------------+-----------------+----------------+----------------+------+------+------+----------------+-------------+---------+---------+-----------+-----------+--------------+-----------+-------------+---------+---------+-----------+------------+-------------+--------+--------+------------+----------+-------+-------------------+-------------------+------------------------+-----------------------+----------------------+------+-----------+----------+-----+-------------------+---------+------------+\n",
            "only showing top 2 rows\n",
            "\n"
          ]
        }
      ]
    },
    {
      "cell_type": "code",
      "source": [
        "%%time\n",
        "# convert categorical with categories less than 6 into one hot encode columns in pyspark\n",
        "# loop through each categorical column and print its distinct values\n",
        "for col in categorical_columns:\n",
        "    print(\"Distinct values for column '{}':\".format(col))\n",
        "    data.select(col).distinct().show()"
      ],
      "metadata": {
        "id": "3H7hdGhjB9gl",
        "colab": {
          "base_uri": "https://localhost:8080/"
        },
        "outputId": "bd2deee0-db73-4bf8-a9db-99602ee7f343"
      },
      "execution_count": null,
      "outputs": [
        {
          "output_type": "stream",
          "name": "stdout",
          "text": [
            "Distinct values for column 'race':\n",
            "+----+\n",
            "|race|\n",
            "+----+\n",
            "|   1|\n",
            "|   3|\n",
            "|   4|\n",
            "|   2|\n",
            "|   0|\n",
            "+----+\n",
            "\n",
            "Distinct values for column 'gender':\n",
            "+------+\n",
            "|gender|\n",
            "+------+\n",
            "|     1|\n",
            "|     0|\n",
            "+------+\n",
            "\n",
            "Distinct values for column 'age':\n",
            "+---+\n",
            "|age|\n",
            "+---+\n",
            "| 85|\n",
            "| 65|\n",
            "|  5|\n",
            "| 15|\n",
            "| 35|\n",
            "| 55|\n",
            "| 45|\n",
            "| 25|\n",
            "| 95|\n",
            "| 75|\n",
            "+---+\n",
            "\n",
            "Distinct values for column 'diag_1':\n",
            "+------+\n",
            "|diag_1|\n",
            "+------+\n",
            "|   296|\n",
            "|   691|\n",
            "|   451|\n",
            "|   853|\n",
            "|   800|\n",
            "|   944|\n",
            "|   870|\n",
            "|   447|\n",
            "|   591|\n",
            "|     7|\n",
            "|250.01|\n",
            "|   574|\n",
            "|   475|\n",
            "|   718|\n",
            "|   307|\n",
            "|   577|\n",
            "|   581|\n",
            "|   205|\n",
            "|   747|\n",
            "|   334|\n",
            "+------+\n",
            "only showing top 20 rows\n",
            "\n",
            "Distinct values for column 'diag_2':\n",
            "+------+\n",
            "|diag_2|\n",
            "+------+\n",
            "|   296|\n",
            "|   691|\n",
            "|   451|\n",
            "|   V72|\n",
            "|   800|\n",
            "|   944|\n",
            "|   919|\n",
            "|   870|\n",
            "|250.01|\n",
            "|   447|\n",
            "|   591|\n",
            "|   574|\n",
            "|   718|\n",
            "|   475|\n",
            "|   307|\n",
            "|   577|\n",
            "|   581|\n",
            "|   205|\n",
            "|  E858|\n",
            "|   747|\n",
            "+------+\n",
            "only showing top 20 rows\n",
            "\n",
            "Distinct values for column 'diag_3':\n",
            "+------+\n",
            "|diag_3|\n",
            "+------+\n",
            "|   296|\n",
            "|   451|\n",
            "|  E876|\n",
            "|   V72|\n",
            "|   944|\n",
            "|   853|\n",
            "|   919|\n",
            "|   870|\n",
            "|250.01|\n",
            "|   591|\n",
            "|   447|\n",
            "|   574|\n",
            "|   307|\n",
            "|   718|\n",
            "|   581|\n",
            "|   577|\n",
            "|   334|\n",
            "|  E816|\n",
            "|   205|\n",
            "|  E858|\n",
            "+------+\n",
            "only showing top 20 rows\n",
            "\n",
            "Distinct values for column 'max_glu_serum':\n",
            "+-------------+\n",
            "|max_glu_serum|\n",
            "+-------------+\n",
            "|          -99|\n",
            "|            1|\n",
            "|            0|\n",
            "+-------------+\n",
            "\n",
            "Distinct values for column 'A1Cresult':\n",
            "+---------+\n",
            "|A1Cresult|\n",
            "+---------+\n",
            "|      -99|\n",
            "|        1|\n",
            "|        0|\n",
            "+---------+\n",
            "\n",
            "Distinct values for column 'metformin':\n",
            "+---------+\n",
            "|metformin|\n",
            "+---------+\n",
            "|        1|\n",
            "+---------+\n",
            "\n",
            "Distinct values for column 'repaglinide':\n",
            "+-----------+\n",
            "|repaglinide|\n",
            "+-----------+\n",
            "|          1|\n",
            "+-----------+\n",
            "\n",
            "Distinct values for column 'nateglinide':\n",
            "+-----------+\n",
            "|nateglinide|\n",
            "+-----------+\n",
            "|          1|\n",
            "+-----------+\n",
            "\n",
            "Distinct values for column 'chlorpropamide':\n",
            "+--------------+\n",
            "|chlorpropamide|\n",
            "+--------------+\n",
            "|             1|\n",
            "+--------------+\n",
            "\n",
            "Distinct values for column 'glimepiride':\n",
            "+-----------+\n",
            "|glimepiride|\n",
            "+-----------+\n",
            "|          1|\n",
            "+-----------+\n",
            "\n",
            "Distinct values for column 'glipizide':\n",
            "+---------+\n",
            "|glipizide|\n",
            "+---------+\n",
            "|        1|\n",
            "+---------+\n",
            "\n",
            "Distinct values for column 'glyburide':\n",
            "+---------+\n",
            "|glyburide|\n",
            "+---------+\n",
            "|        1|\n",
            "+---------+\n",
            "\n",
            "Distinct values for column 'tolbutamide':\n",
            "+-----------+\n",
            "|tolbutamide|\n",
            "+-----------+\n",
            "|          1|\n",
            "+-----------+\n",
            "\n",
            "Distinct values for column 'pioglitazone':\n",
            "+------------+\n",
            "|pioglitazone|\n",
            "+------------+\n",
            "|           1|\n",
            "+------------+\n",
            "\n",
            "Distinct values for column 'rosiglitazone':\n",
            "+-------------+\n",
            "|rosiglitazone|\n",
            "+-------------+\n",
            "|            1|\n",
            "+-------------+\n",
            "\n",
            "Distinct values for column 'acarbose':\n",
            "+--------+\n",
            "|acarbose|\n",
            "+--------+\n",
            "|       1|\n",
            "+--------+\n",
            "\n",
            "Distinct values for column 'miglitol':\n",
            "+--------+\n",
            "|miglitol|\n",
            "+--------+\n",
            "|       1|\n",
            "+--------+\n",
            "\n",
            "Distinct values for column 'troglitazone':\n",
            "+------------+\n",
            "|troglitazone|\n",
            "+------------+\n",
            "|           1|\n",
            "+------------+\n",
            "\n",
            "Distinct values for column 'tolazamide':\n",
            "+----------+\n",
            "|tolazamide|\n",
            "+----------+\n",
            "|         1|\n",
            "+----------+\n",
            "\n",
            "Distinct values for column 'insulin':\n",
            "+-------+\n",
            "|insulin|\n",
            "+-------+\n",
            "|      1|\n",
            "+-------+\n",
            "\n",
            "Distinct values for column 'glyburide-metformin':\n",
            "+-------------------+\n",
            "|glyburide-metformin|\n",
            "+-------------------+\n",
            "|                  1|\n",
            "+-------------------+\n",
            "\n",
            "Distinct values for column 'glipizide-metformin':\n",
            "+-------------------+\n",
            "|glipizide-metformin|\n",
            "+-------------------+\n",
            "|                  1|\n",
            "+-------------------+\n",
            "\n",
            "Distinct values for column 'glimepiride-pioglitazone':\n",
            "+------------------------+\n",
            "|glimepiride-pioglitazone|\n",
            "+------------------------+\n",
            "|                       1|\n",
            "+------------------------+\n",
            "\n",
            "Distinct values for column 'metformin-pioglitazone':\n",
            "+----------------------+\n",
            "|metformin-pioglitazone|\n",
            "+----------------------+\n",
            "|                     1|\n",
            "+----------------------+\n",
            "\n",
            "Distinct values for column 'change':\n",
            "+------+\n",
            "|change|\n",
            "+------+\n",
            "|     1|\n",
            "|     0|\n",
            "+------+\n",
            "\n",
            "Distinct values for column 'diabetesMed':\n",
            "+-----------+\n",
            "|diabetesMed|\n",
            "+-----------+\n",
            "|          1|\n",
            "|          0|\n",
            "+-----------+\n",
            "\n",
            "Distinct values for column 'readmitted':\n",
            "+----------+\n",
            "|readmitted|\n",
            "+----------+\n",
            "|         1|\n",
            "|         0|\n",
            "+----------+\n",
            "\n",
            "CPU times: user 1.27 s, sys: 114 ms, total: 1.38 s\n",
            "Wall time: 3min\n"
          ]
        }
      ]
    },
    {
      "cell_type": "code",
      "source": [
        "data.printSchema()"
      ],
      "metadata": {
        "id": "qZQXEMEunOIP",
        "colab": {
          "base_uri": "https://localhost:8080/"
        },
        "outputId": "0e8115a2-8771-4fe5-95e5-1e27ae59e593"
      },
      "execution_count": null,
      "outputs": [
        {
          "output_type": "stream",
          "name": "stdout",
          "text": [
            "root\n",
            " |-- encounter_id: integer (nullable = true)\n",
            " |-- patient_nbr: integer (nullable = true)\n",
            " |-- race: integer (nullable = true)\n",
            " |-- gender: integer (nullable = false)\n",
            " |-- age: integer (nullable = false)\n",
            " |-- admission_type_id: integer (nullable = true)\n",
            " |-- discharge_disposition_id: integer (nullable = true)\n",
            " |-- admission_source_id: integer (nullable = true)\n",
            " |-- time_in_hospital: integer (nullable = true)\n",
            " |-- num_lab_procedures: integer (nullable = true)\n",
            " |-- num_procedures: integer (nullable = true)\n",
            " |-- num_medications: integer (nullable = true)\n",
            " |-- number_outpatient: double (nullable = true)\n",
            " |-- number_emergency: double (nullable = true)\n",
            " |-- number_inpatient: double (nullable = true)\n",
            " |-- diag_1: string (nullable = true)\n",
            " |-- diag_2: string (nullable = true)\n",
            " |-- diag_3: string (nullable = true)\n",
            " |-- number_diagnoses: integer (nullable = true)\n",
            " |-- max_glu_serum: integer (nullable = true)\n",
            " |-- A1Cresult: integer (nullable = true)\n",
            " |-- metformin: integer (nullable = false)\n",
            " |-- repaglinide: integer (nullable = false)\n",
            " |-- nateglinide: integer (nullable = false)\n",
            " |-- chlorpropamide: integer (nullable = false)\n",
            " |-- glimepiride: integer (nullable = false)\n",
            " |-- acetohexamide: integer (nullable = false)\n",
            " |-- glipizide: integer (nullable = false)\n",
            " |-- glyburide: integer (nullable = false)\n",
            " |-- tolbutamide: integer (nullable = false)\n",
            " |-- pioglitazone: integer (nullable = false)\n",
            " |-- rosiglitazone: integer (nullable = false)\n",
            " |-- acarbose: integer (nullable = false)\n",
            " |-- miglitol: integer (nullable = false)\n",
            " |-- troglitazone: integer (nullable = false)\n",
            " |-- tolazamide: integer (nullable = false)\n",
            " |-- insulin: integer (nullable = false)\n",
            " |-- glyburide-metformin: integer (nullable = false)\n",
            " |-- glipizide-metformin: integer (nullable = false)\n",
            " |-- glimepiride-pioglitazone: integer (nullable = false)\n",
            " |-- metformin-rosiglitazone: integer (nullable = false)\n",
            " |-- metformin-pioglitazone: integer (nullable = false)\n",
            " |-- change: integer (nullable = false)\n",
            " |-- diabetesMed: integer (nullable = false)\n",
            " |-- readmitted: integer (nullable = true)\n",
            " |-- index: long (nullable = false)\n",
            " |-- service_utilization: double (nullable = true)\n",
            " |-- numchange: integer (nullable = false)\n",
            " |-- level1_diag1: float (nullable = false)\n",
            "\n"
          ]
        }
      ]
    },
    {
      "cell_type": "markdown",
      "source": [
        "### Converting categorical variables to numerical using StringIndexer"
      ],
      "metadata": {
        "id": "lkbyHR9ILjeJ"
      }
    },
    {
      "cell_type": "code",
      "source": [
        "cat_cols = ['diag_1', 'diag_2', 'diag_3']"
      ],
      "metadata": {
        "id": "cLkabRRrEwDB"
      },
      "execution_count": null,
      "outputs": []
    },
    {
      "cell_type": "code",
      "source": [
        "# Create a StringIndexer object for each categorical variable column\n",
        "indexers = [StringIndexer(inputCol=col, outputCol=col+\"_index\").fit(data) for col in cat_cols]\n",
        "\n",
        "# Transform the data using the StringIndexer objects\n",
        "indexed_data = data\n",
        "for indexer in indexers:\n",
        "    indexed_data = indexer.transform(indexed_data)\n",
        "\n",
        "\n",
        "# Show the results\n",
        "indexed_data.show()\n"
      ],
      "metadata": {
        "colab": {
          "base_uri": "https://localhost:8080/"
        },
        "id": "YPYKKQSzE-XK",
        "outputId": "b4c6806f-9b39-4a84-a08a-d1a94413557b"
      },
      "execution_count": null,
      "outputs": [
        {
          "output_type": "stream",
          "name": "stdout",
          "text": [
            "+------------+-----------+----+------+---+-----------------+------------------------+-------------------+----------------+------------------+--------------+---------------+-----------------+----------------+----------------+------+------+------+----------------+-------------+---------+---------+-----------+-----------+--------------+-----------+-------------+---------+---------+-----------+------------+-------------+--------+--------+------------+----------+-------+-------------------+-------------------+------------------------+-----------------------+----------------------+------+-----------+----------+-----+-------------------+---------+------------+------------+------------+------------+\n",
            "|encounter_id|patient_nbr|race|gender|age|admission_type_id|discharge_disposition_id|admission_source_id|time_in_hospital|num_lab_procedures|num_procedures|num_medications|number_outpatient|number_emergency|number_inpatient|diag_1|diag_2|diag_3|number_diagnoses|max_glu_serum|A1Cresult|metformin|repaglinide|nateglinide|chlorpropamide|glimepiride|acetohexamide|glipizide|glyburide|tolbutamide|pioglitazone|rosiglitazone|acarbose|miglitol|troglitazone|tolazamide|insulin|glyburide-metformin|glipizide-metformin|glimepiride-pioglitazone|metformin-rosiglitazone|metformin-pioglitazone|change|diabetesMed|readmitted|index|service_utilization|numchange|level1_diag1|diag_1_index|diag_2_index|diag_3_index|\n",
            "+------------+-----------+----+------+---+-----------------+------------------------+-------------------+----------------+------------------+--------------+---------------+-----------------+----------------+----------------+------+------+------+----------------+-------------+---------+---------+-----------+-----------+--------------+-----------+-------------+---------+---------+-----------+------------+-------------+--------+--------+------------+----------+-------+-------------------+-------------------+------------------------+-----------------------+----------------------+------+-----------+----------+-----+-------------------+---------+------------+------------+------------+------------+\n",
            "|      149190|   55629189|   1|     0| 15|                1|                       1|                  7|               3|                59|             0|             18|              0.0|             0.0|             0.0|   276|250.01|   255|               9|          -99|      -99|        1|          1|          1|             1|          1|            0|        1|        1|          1|           1|            1|       1|       1|           1|         1|      1|                  1|                  1|                       1|                      0|                     1|     1|          1|         0|    1|                0.0|        3|         0.0|        12.0|        16.0|       161.0|\n",
            "|       64410|   86047875|   2|     0| 25|                1|                       1|                  7|               2|                11|             5|             13|              2.0|             0.0|             1.0|   648|   250|   V27|               6|          -99|      -99|        1|          1|          1|             1|          1|            0|        1|        1|          1|           1|            1|       1|       1|           1|         1|      1|                  1|                  1|                       1|                      0|                     1|     0|          1|         0|    2|                3.0|        2|         0.0|        73.0|         2.0|       226.0|\n",
            "|      500364|   82442376|   1|     1| 35|                1|                       1|                  7|               2|                44|             1|             16|              0.0|             0.0|             0.0|     8|250.43|   403|               7|          -99|      -99|        1|          1|          1|             1|          1|            0|        1|        1|          1|           1|            1|       1|       1|           1|         1|      1|                  1|                  1|                       1|                      0|                     1|     1|          1|         0|    3|                0.0|        3|         0.0|        41.0|       213.0|         7.0|\n",
            "|       16680|   42519267|   1|     1| 45|                1|                       1|                  7|               1|                51|             0|              8|              0.0|             0.0|             0.0|   197|   157|   250|               5|          -99|      -99|        1|          1|          1|             1|          1|            0|        1|        1|          1|           1|            1|       1|       1|           1|         1|      1|                  1|                  1|                       1|                      0|                     1|     1|          1|         0|    4|                0.0|        2|         8.0|        64.0|       143.0|         0.0|\n",
            "|       35754|   82637451|   1|     1| 55|                1|                       1|                  2|               3|                31|             6|             16|              0.0|             0.0|             0.0|   414|   411|   250|               9|          -99|      -99|        1|          1|          1|             1|          1|            0|        1|        1|          1|           1|            1|       1|       1|           1|         1|      1|                  1|                  1|                       1|                      0|                     1|     0|          1|         0|    5|                0.0|        2|         1.0|         1.0|         9.0|         0.0|\n",
            "|       55842|   84259809|   1|     1| 65|                3|                       1|                  2|               4|                70|             1|             21|              0.0|             0.0|             0.0|   414|   411|   V45|               7|          -99|      -99|        1|          1|          1|             1|          1|            0|        1|        1|          1|           1|            1|       1|       1|           1|         1|      1|                  1|                  1|                       1|                      0|                     1|     1|          1|         0|    6|                0.0|        2|         1.0|         1.0|         9.0|        11.0|\n",
            "|       63768|  114882984|   1|     1| 75|                1|                       1|                  7|               5|                73|             0|             12|              0.0|             0.0|             0.0|   428|   492|   250|               8|          -99|      -99|        1|          1|          1|             1|          1|            0|        1|        1|          1|           1|            1|       1|       1|           1|         1|      1|                  1|                  1|                       1|                      0|                     1|     0|          1|         0|    7|                0.0|        2|         1.0|         0.0|        69.0|         0.0|\n",
            "|       12522|   48330783|   1|     0| 85|                1|                       1|                  4|              13|                68|             2|             28|              0.0|             0.0|             0.0|   398|   427|    38|               8|          -99|      -99|        1|          1|          1|             1|          1|            0|        1|        1|          1|           1|            1|       1|       1|           1|         1|      1|                  1|                  1|                       1|                      0|                     1|     1|          1|         0|    8|                0.0|        2|         1.0|       112.0|         3.0|       102.0|\n",
            "|       15738|   63555939|   1|     0| 95|                3|                       3|                  4|              12|                33|             3|             18|              0.0|             0.0|             0.0|   434|   198|   486|               8|          -99|      -99|        1|          1|          1|             1|          1|            0|        1|        1|          1|           1|            1|       1|       1|           1|         1|      1|                  1|                  1|                       1|                      0|                     1|     1|          1|         0|    9|                0.0|        2|         1.0|        10.0|        53.0|        31.0|\n",
            "|       28236|   89869032|   2|     0| 45|                1|                       1|                  7|               9|                47|             2|             17|              0.0|             0.0|             0.0| 250.7|   403|   996|               9|          -99|      -99|        1|          1|          1|             1|          1|            0|        1|        1|          1|           1|            1|       1|       1|           1|         1|      1|                  1|                  1|                       1|                      0|                     1|     0|          1|         0|   10|                0.0|        2|         4.0|        28.0|         7.0|        62.0|\n",
            "|       36900|   77391171|   2|     1| 65|                1|                       1|                  4|               7|                62|             0|             11|              0.0|             0.0|             0.0|   157|   288|   197|               7|          -99|      -99|        1|          1|          1|             1|          1|            0|        1|        1|          1|           1|            1|       1|       1|           1|         1|      1|                  1|                  1|                       1|                      0|                     1|     1|          1|         1|   11|                0.0|        3|         8.0|       125.0|       158.0|        40.0|\n",
            "|       40926|   85504905|   1|     0| 45|                1|                       3|                  7|               7|                60|             0|             15|              0.0|             1.0|             0.0|   428|250.43| 250.6|               8|          -99|      -99|        1|          1|          1|             1|          1|            0|        1|        1|          1|           1|            1|       1|       1|           1|         1|      1|                  1|                  1|                       1|                      0|                     1|     1|          1|         1|   12|                1.0|        4|         1.0|         0.0|       213.0|        17.0|\n",
            "|       42570|   77586282|   1|     1| 85|                1|                       6|                  7|              10|                55|             1|             31|              0.0|             0.0|             0.0|   428|   411|   427|               8|          -99|      -99|        1|          1|          1|             1|          1|            0|        1|        1|          1|           1|            1|       1|       1|           1|         1|      1|                  1|                  1|                       1|                      0|                     1|     0|          1|         0|   13|                0.0|        2|         1.0|         0.0|         9.0|         4.0|\n",
            "|       62256|   49726791|   2|     0| 65|                3|                       1|                  2|               1|                49|             5|              2|              0.0|             0.0|             0.0|   518|   998|   627|               8|          -99|      -99|        1|          1|          1|             1|          1|            0|        1|        1|          1|           1|            1|       1|       1|           1|         1|      1|                  1|                  1|                       1|                      0|                     1|     0|          1|         0|   14|                0.0|        2|         2.0|        23.0|        29.0|       307.0|\n",
            "|       73578|   86328819|   2|     1| 65|                1|                       3|                  7|              12|                75|             5|             13|              0.0|             0.0|             0.0|   999|   507|   996|               9|          -99|      -99|        1|          1|          1|             1|          1|            0|        1|        1|          1|           1|            1|       1|       1|           1|         1|      1|                  1|                  1|                       1|                      0|                     1|     1|          1|         0|   15|                0.0|        3|         5.0|       275.0|        94.0|        62.0|\n",
            "|       77076|   92519352|   2|     1| 55|                1|                       1|                  7|               4|                45|             4|             17|              0.0|             0.0|             0.0|   410|   411|   414|               8|          -99|      -99|        1|          1|          1|             1|          1|            0|        1|        1|          1|           1|            1|       1|       1|           1|         1|      1|                  1|                  1|                       1|                      0|                     1|     1|          1|         1|   16|                0.0|        2|         1.0|         3.0|         9.0|         5.0|\n",
            "|       84222|  108662661|   1|     0| 55|                1|                       1|                  7|               3|                29|             0|             11|              0.0|             0.0|             0.0|   682|   174|   250|               3|          -99|      -99|        1|          1|          1|             1|          1|            0|        1|        1|          1|           1|            1|       1|       1|           1|         1|      1|                  1|                  1|                       1|                      0|                     1|     0|          1|         0|   17|                0.0|        2|         0.0|         9.0|       240.0|         0.0|\n",
            "|       89682|  107389323|   2|     1| 75|                1|                       1|                  7|               5|                35|             5|             23|              0.0|             0.0|             0.0|   402|   425|   416|               9|          -99|      -99|        1|          1|          1|             1|          1|            0|        1|        1|          1|           1|            1|       1|       1|           1|         1|      1|                  1|                  1|                       1|                      0|                     1|     0|          1|         0|   18|                0.0|        2|         1.0|        44.0|        18.0|        92.0|\n",
            "|      182796|   63000108|   2|     0| 75|                1|                       1|                  4|               2|                47|             0|             12|              0.0|             0.0|             0.0|   410|   401|   582|               8|          -99|      -99|        1|          1|          1|             1|          1|            0|        1|        1|          1|           1|            1|       1|       1|           1|         1|      1|                  1|                  1|                       1|                      0|                     1|     0|          0|         0|   22|                0.0|        2|         1.0|         3.0|         4.0|       369.0|\n",
            "|      183930|  107400762|   1|     0| 85|                1|                       6|                  1|              11|                42|             2|             19|              0.0|             0.0|             0.0|   V57|   715|   V43|               8|          -99|      -99|        1|          1|          1|             1|          1|            0|        1|        1|          1|           1|            1|       1|       1|           1|         1|      1|                  1|                  1|                       1|                      0|                     1|     0|          0|         0|   23|                0.0|        2|         0.0|        17.0|       108.0|        79.0|\n",
            "+------------+-----------+----+------+---+-----------------+------------------------+-------------------+----------------+------------------+--------------+---------------+-----------------+----------------+----------------+------+------+------+----------------+-------------+---------+---------+-----------+-----------+--------------+-----------+-------------+---------+---------+-----------+------------+-------------+--------+--------+------------+----------+-------+-------------------+-------------------+------------------------+-----------------------+----------------------+------+-----------+----------+-----+-------------------+---------+------------+------------+------------+------------+\n",
            "only showing top 20 rows\n",
            "\n"
          ]
        }
      ]
    },
    {
      "cell_type": "markdown",
      "source": [
        "### For the string indexer generated in previous step, encoding them using OneHotEncoder"
      ],
      "metadata": {
        "id": "ByX5y5P2LqCJ"
      }
    },
    {
      "cell_type": "code",
      "source": [
        "# Create a list of OneHotEncoder objects for each indexed categorical variable column\n",
        "encoders = [OneHotEncoder(inputCol=col+\"_index\", outputCol=col+\"_onehot\") for col in cat_cols]\n",
        "\n",
        "# Fit and transform the data using the OneHotEncoder objects\n",
        "encoded_data = indexed_data\n",
        "for encoder in encoders:\n",
        "    encoded_data = encoder.fit(encoded_data).transform(encoded_data)\n",
        "\n",
        "# Show the results\n",
        "encoded_data.show(10)\n",
        "\n"
      ],
      "metadata": {
        "colab": {
          "base_uri": "https://localhost:8080/"
        },
        "id": "jB9dma3HFGc5",
        "outputId": "323a1cf3-7c71-4882-ec1a-b4d236f91309"
      },
      "execution_count": null,
      "outputs": [
        {
          "output_type": "stream",
          "name": "stdout",
          "text": [
            "+------------+-----------+----+------+---+-----------------+------------------------+-------------------+----------------+------------------+--------------+---------------+-----------------+----------------+----------------+------+------+------+----------------+-------------+---------+---------+-----------+-----------+--------------+-----------+-------------+---------+---------+-----------+------------+-------------+--------+--------+------------+----------+-------+-------------------+-------------------+------------------------+-----------------------+----------------------+------+-----------+----------+-----+-------------------+---------+------------+------------+------------+------------+-----------------+-----------------+-----------------+\n",
            "|encounter_id|patient_nbr|race|gender|age|admission_type_id|discharge_disposition_id|admission_source_id|time_in_hospital|num_lab_procedures|num_procedures|num_medications|number_outpatient|number_emergency|number_inpatient|diag_1|diag_2|diag_3|number_diagnoses|max_glu_serum|A1Cresult|metformin|repaglinide|nateglinide|chlorpropamide|glimepiride|acetohexamide|glipizide|glyburide|tolbutamide|pioglitazone|rosiglitazone|acarbose|miglitol|troglitazone|tolazamide|insulin|glyburide-metformin|glipizide-metformin|glimepiride-pioglitazone|metformin-rosiglitazone|metformin-pioglitazone|change|diabetesMed|readmitted|index|service_utilization|numchange|level1_diag1|diag_1_index|diag_2_index|diag_3_index|    diag_1_onehot|    diag_2_onehot|    diag_3_onehot|\n",
            "+------------+-----------+----+------+---+-----------------+------------------------+-------------------+----------------+------------------+--------------+---------------+-----------------+----------------+----------------+------+------+------+----------------+-------------+---------+---------+-----------+-----------+--------------+-----------+-------------+---------+---------+-----------+------------+-------------+--------+--------+------------+----------+-------+-------------------+-------------------+------------------------+-----------------------+----------------------+------+-----------+----------+-----+-------------------+---------+------------+------------+------------+------------+-----------------+-----------------+-----------------+\n",
            "|      149190|   55629189|   1|     0| 15|                1|                       1|                  7|               3|                59|             0|             18|              0.0|             0.0|             0.0|   276|250.01|   255|               9|          -99|      -99|        1|          1|          1|             1|          1|            0|        1|        1|          1|           1|            1|       1|       1|           1|         1|      1|                  1|                  1|                       1|                      0|                     1|     1|          1|         0|    1|                0.0|        3|         0.0|        12.0|        16.0|       161.0| (711,[12],[1.0])| (738,[16],[1.0])|(783,[161],[1.0])|\n",
            "|       64410|   86047875|   2|     0| 25|                1|                       1|                  7|               2|                11|             5|             13|              2.0|             0.0|             1.0|   648|   250|   V27|               6|          -99|      -99|        1|          1|          1|             1|          1|            0|        1|        1|          1|           1|            1|       1|       1|           1|         1|      1|                  1|                  1|                       1|                      0|                     1|     0|          1|         0|    2|                3.0|        2|         0.0|        73.0|         2.0|       226.0| (711,[73],[1.0])|  (738,[2],[1.0])|(783,[226],[1.0])|\n",
            "|      500364|   82442376|   1|     1| 35|                1|                       1|                  7|               2|                44|             1|             16|              0.0|             0.0|             0.0|     8|250.43|   403|               7|          -99|      -99|        1|          1|          1|             1|          1|            0|        1|        1|          1|           1|            1|       1|       1|           1|         1|      1|                  1|                  1|                       1|                      0|                     1|     1|          1|         0|    3|                0.0|        3|         0.0|        41.0|       213.0|         7.0| (711,[41],[1.0])|(738,[213],[1.0])|  (783,[7],[1.0])|\n",
            "|       16680|   42519267|   1|     1| 45|                1|                       1|                  7|               1|                51|             0|              8|              0.0|             0.0|             0.0|   197|   157|   250|               5|          -99|      -99|        1|          1|          1|             1|          1|            0|        1|        1|          1|           1|            1|       1|       1|           1|         1|      1|                  1|                  1|                       1|                      0|                     1|     1|          1|         0|    4|                0.0|        2|         8.0|        64.0|       143.0|         0.0| (711,[64],[1.0])|(738,[143],[1.0])|  (783,[0],[1.0])|\n",
            "|       35754|   82637451|   1|     1| 55|                1|                       1|                  2|               3|                31|             6|             16|              0.0|             0.0|             0.0|   414|   411|   250|               9|          -99|      -99|        1|          1|          1|             1|          1|            0|        1|        1|          1|           1|            1|       1|       1|           1|         1|      1|                  1|                  1|                       1|                      0|                     1|     0|          1|         0|    5|                0.0|        2|         1.0|         1.0|         9.0|         0.0|  (711,[1],[1.0])|  (738,[9],[1.0])|  (783,[0],[1.0])|\n",
            "|       55842|   84259809|   1|     1| 65|                3|                       1|                  2|               4|                70|             1|             21|              0.0|             0.0|             0.0|   414|   411|   V45|               7|          -99|      -99|        1|          1|          1|             1|          1|            0|        1|        1|          1|           1|            1|       1|       1|           1|         1|      1|                  1|                  1|                       1|                      0|                     1|     1|          1|         0|    6|                0.0|        2|         1.0|         1.0|         9.0|        11.0|  (711,[1],[1.0])|  (738,[9],[1.0])| (783,[11],[1.0])|\n",
            "|       63768|  114882984|   1|     1| 75|                1|                       1|                  7|               5|                73|             0|             12|              0.0|             0.0|             0.0|   428|   492|   250|               8|          -99|      -99|        1|          1|          1|             1|          1|            0|        1|        1|          1|           1|            1|       1|       1|           1|         1|      1|                  1|                  1|                       1|                      0|                     1|     0|          1|         0|    7|                0.0|        2|         1.0|         0.0|        69.0|         0.0|  (711,[0],[1.0])| (738,[69],[1.0])|  (783,[0],[1.0])|\n",
            "|       12522|   48330783|   1|     0| 85|                1|                       1|                  4|              13|                68|             2|             28|              0.0|             0.0|             0.0|   398|   427|    38|               8|          -99|      -99|        1|          1|          1|             1|          1|            0|        1|        1|          1|           1|            1|       1|       1|           1|         1|      1|                  1|                  1|                       1|                      0|                     1|     1|          1|         0|    8|                0.0|        2|         1.0|       112.0|         3.0|       102.0|(711,[112],[1.0])|  (738,[3],[1.0])|(783,[102],[1.0])|\n",
            "|       15738|   63555939|   1|     0| 95|                3|                       3|                  4|              12|                33|             3|             18|              0.0|             0.0|             0.0|   434|   198|   486|               8|          -99|      -99|        1|          1|          1|             1|          1|            0|        1|        1|          1|           1|            1|       1|       1|           1|         1|      1|                  1|                  1|                       1|                      0|                     1|     1|          1|         0|    9|                0.0|        2|         1.0|        10.0|        53.0|        31.0| (711,[10],[1.0])| (738,[53],[1.0])| (783,[31],[1.0])|\n",
            "|       28236|   89869032|   2|     0| 45|                1|                       1|                  7|               9|                47|             2|             17|              0.0|             0.0|             0.0| 250.7|   403|   996|               9|          -99|      -99|        1|          1|          1|             1|          1|            0|        1|        1|          1|           1|            1|       1|       1|           1|         1|      1|                  1|                  1|                       1|                      0|                     1|     0|          1|         0|   10|                0.0|        2|         4.0|        28.0|         7.0|        62.0| (711,[28],[1.0])|  (738,[7],[1.0])| (783,[62],[1.0])|\n",
            "+------------+-----------+----+------+---+-----------------+------------------------+-------------------+----------------+------------------+--------------+---------------+-----------------+----------------+----------------+------+------+------+----------------+-------------+---------+---------+-----------+-----------+--------------+-----------+-------------+---------+---------+-----------+------------+-------------+--------+--------+------------+----------+-------+-------------------+-------------------+------------------------+-----------------------+----------------------+------+-----------+----------+-----+-------------------+---------+------------+------------+------------+------------+-----------------+-----------------+-----------------+\n",
            "only showing top 10 rows\n",
            "\n"
          ]
        }
      ]
    },
    {
      "cell_type": "code",
      "source": [
        "encoded_data.printSchema()"
      ],
      "metadata": {
        "colab": {
          "base_uri": "https://localhost:8080/"
        },
        "id": "-f7RPSjGFh2j",
        "outputId": "dc181a43-3ceb-4c48-d7a0-f32072eab83b"
      },
      "execution_count": null,
      "outputs": [
        {
          "output_type": "stream",
          "name": "stdout",
          "text": [
            "root\n",
            " |-- encounter_id: integer (nullable = true)\n",
            " |-- patient_nbr: integer (nullable = true)\n",
            " |-- race: integer (nullable = true)\n",
            " |-- gender: integer (nullable = false)\n",
            " |-- age: integer (nullable = false)\n",
            " |-- admission_type_id: integer (nullable = true)\n",
            " |-- discharge_disposition_id: integer (nullable = true)\n",
            " |-- admission_source_id: integer (nullable = true)\n",
            " |-- time_in_hospital: integer (nullable = true)\n",
            " |-- num_lab_procedures: integer (nullable = true)\n",
            " |-- num_procedures: integer (nullable = true)\n",
            " |-- num_medications: integer (nullable = true)\n",
            " |-- number_outpatient: double (nullable = true)\n",
            " |-- number_emergency: double (nullable = true)\n",
            " |-- number_inpatient: double (nullable = true)\n",
            " |-- diag_1: string (nullable = true)\n",
            " |-- diag_2: string (nullable = true)\n",
            " |-- diag_3: string (nullable = true)\n",
            " |-- number_diagnoses: integer (nullable = true)\n",
            " |-- max_glu_serum: integer (nullable = true)\n",
            " |-- A1Cresult: integer (nullable = true)\n",
            " |-- metformin: integer (nullable = false)\n",
            " |-- repaglinide: integer (nullable = false)\n",
            " |-- nateglinide: integer (nullable = false)\n",
            " |-- chlorpropamide: integer (nullable = false)\n",
            " |-- glimepiride: integer (nullable = false)\n",
            " |-- acetohexamide: integer (nullable = false)\n",
            " |-- glipizide: integer (nullable = false)\n",
            " |-- glyburide: integer (nullable = false)\n",
            " |-- tolbutamide: integer (nullable = false)\n",
            " |-- pioglitazone: integer (nullable = false)\n",
            " |-- rosiglitazone: integer (nullable = false)\n",
            " |-- acarbose: integer (nullable = false)\n",
            " |-- miglitol: integer (nullable = false)\n",
            " |-- troglitazone: integer (nullable = false)\n",
            " |-- tolazamide: integer (nullable = false)\n",
            " |-- insulin: integer (nullable = false)\n",
            " |-- glyburide-metformin: integer (nullable = false)\n",
            " |-- glipizide-metformin: integer (nullable = false)\n",
            " |-- glimepiride-pioglitazone: integer (nullable = false)\n",
            " |-- metformin-rosiglitazone: integer (nullable = false)\n",
            " |-- metformin-pioglitazone: integer (nullable = false)\n",
            " |-- change: integer (nullable = false)\n",
            " |-- diabetesMed: integer (nullable = false)\n",
            " |-- readmitted: integer (nullable = true)\n",
            " |-- index: long (nullable = false)\n",
            " |-- service_utilization: double (nullable = true)\n",
            " |-- numchange: integer (nullable = false)\n",
            " |-- level1_diag1: float (nullable = false)\n",
            " |-- diag_1_index: double (nullable = false)\n",
            " |-- diag_2_index: double (nullable = false)\n",
            " |-- diag_3_index: double (nullable = false)\n",
            " |-- diag_1_onehot: vector (nullable = true)\n",
            " |-- diag_2_onehot: vector (nullable = true)\n",
            " |-- diag_3_onehot: vector (nullable = true)\n",
            "\n"
          ]
        }
      ]
    },
    {
      "cell_type": "code",
      "source": [
        "col_to_rem = ['index', 'encounter_id', 'patient_nbr']\n",
        "encoded_data = encoded_data.drop(*col_to_rem)\n",
        "encoded_data.printSchema()"
      ],
      "metadata": {
        "colab": {
          "base_uri": "https://localhost:8080/"
        },
        "id": "FOgmkN_KGUWn",
        "outputId": "c1f8d032-3ce4-426c-9a22-0578d9032944"
      },
      "execution_count": null,
      "outputs": [
        {
          "output_type": "stream",
          "name": "stdout",
          "text": [
            "root\n",
            " |-- race: integer (nullable = true)\n",
            " |-- gender: integer (nullable = false)\n",
            " |-- age: integer (nullable = false)\n",
            " |-- admission_type_id: integer (nullable = true)\n",
            " |-- discharge_disposition_id: integer (nullable = true)\n",
            " |-- admission_source_id: integer (nullable = true)\n",
            " |-- time_in_hospital: integer (nullable = true)\n",
            " |-- num_lab_procedures: integer (nullable = true)\n",
            " |-- num_procedures: integer (nullable = true)\n",
            " |-- num_medications: integer (nullable = true)\n",
            " |-- number_outpatient: double (nullable = true)\n",
            " |-- number_emergency: double (nullable = true)\n",
            " |-- number_inpatient: double (nullable = true)\n",
            " |-- diag_1: string (nullable = true)\n",
            " |-- diag_2: string (nullable = true)\n",
            " |-- diag_3: string (nullable = true)\n",
            " |-- number_diagnoses: integer (nullable = true)\n",
            " |-- max_glu_serum: integer (nullable = true)\n",
            " |-- A1Cresult: integer (nullable = true)\n",
            " |-- metformin: integer (nullable = false)\n",
            " |-- repaglinide: integer (nullable = false)\n",
            " |-- nateglinide: integer (nullable = false)\n",
            " |-- chlorpropamide: integer (nullable = false)\n",
            " |-- glimepiride: integer (nullable = false)\n",
            " |-- acetohexamide: integer (nullable = false)\n",
            " |-- glipizide: integer (nullable = false)\n",
            " |-- glyburide: integer (nullable = false)\n",
            " |-- tolbutamide: integer (nullable = false)\n",
            " |-- pioglitazone: integer (nullable = false)\n",
            " |-- rosiglitazone: integer (nullable = false)\n",
            " |-- acarbose: integer (nullable = false)\n",
            " |-- miglitol: integer (nullable = false)\n",
            " |-- troglitazone: integer (nullable = false)\n",
            " |-- tolazamide: integer (nullable = false)\n",
            " |-- insulin: integer (nullable = false)\n",
            " |-- glyburide-metformin: integer (nullable = false)\n",
            " |-- glipizide-metformin: integer (nullable = false)\n",
            " |-- glimepiride-pioglitazone: integer (nullable = false)\n",
            " |-- metformin-rosiglitazone: integer (nullable = false)\n",
            " |-- metformin-pioglitazone: integer (nullable = false)\n",
            " |-- change: integer (nullable = false)\n",
            " |-- diabetesMed: integer (nullable = false)\n",
            " |-- readmitted: integer (nullable = true)\n",
            " |-- service_utilization: double (nullable = true)\n",
            " |-- numchange: integer (nullable = false)\n",
            " |-- level1_diag1: float (nullable = false)\n",
            " |-- diag_1_index: double (nullable = false)\n",
            " |-- diag_2_index: double (nullable = false)\n",
            " |-- diag_3_index: double (nullable = false)\n",
            " |-- diag_1_onehot: vector (nullable = true)\n",
            " |-- diag_2_onehot: vector (nullable = true)\n",
            " |-- diag_3_onehot: vector (nullable = true)\n",
            "\n"
          ]
        }
      ]
    },
    {
      "cell_type": "code",
      "source": [
        "cols = encoded_data.columns\n",
        "cols"
      ],
      "metadata": {
        "colab": {
          "base_uri": "https://localhost:8080/"
        },
        "id": "AC9d2QNYHeq5",
        "outputId": "b3e1659f-6807-4f19-f05e-ab2828f13606"
      },
      "execution_count": null,
      "outputs": [
        {
          "output_type": "execute_result",
          "data": {
            "text/plain": [
              "['race',\n",
              " 'gender',\n",
              " 'age',\n",
              " 'admission_type_id',\n",
              " 'discharge_disposition_id',\n",
              " 'admission_source_id',\n",
              " 'time_in_hospital',\n",
              " 'num_lab_procedures',\n",
              " 'num_procedures',\n",
              " 'num_medications',\n",
              " 'number_outpatient',\n",
              " 'number_emergency',\n",
              " 'number_inpatient',\n",
              " 'diag_1',\n",
              " 'diag_2',\n",
              " 'diag_3',\n",
              " 'number_diagnoses',\n",
              " 'max_glu_serum',\n",
              " 'A1Cresult',\n",
              " 'metformin',\n",
              " 'repaglinide',\n",
              " 'nateglinide',\n",
              " 'chlorpropamide',\n",
              " 'glimepiride',\n",
              " 'acetohexamide',\n",
              " 'glipizide',\n",
              " 'glyburide',\n",
              " 'tolbutamide',\n",
              " 'pioglitazone',\n",
              " 'rosiglitazone',\n",
              " 'acarbose',\n",
              " 'miglitol',\n",
              " 'troglitazone',\n",
              " 'tolazamide',\n",
              " 'insulin',\n",
              " 'glyburide-metformin',\n",
              " 'glipizide-metformin',\n",
              " 'glimepiride-pioglitazone',\n",
              " 'metformin-rosiglitazone',\n",
              " 'metformin-pioglitazone',\n",
              " 'change',\n",
              " 'diabetesMed',\n",
              " 'readmitted',\n",
              " 'service_utilization',\n",
              " 'numchange',\n",
              " 'level1_diag1',\n",
              " 'diag_1_index',\n",
              " 'diag_2_index',\n",
              " 'diag_3_index',\n",
              " 'diag_1_onehot',\n",
              " 'diag_2_onehot',\n",
              " 'diag_3_onehot']"
            ]
          },
          "metadata": {},
          "execution_count": 61
        }
      ]
    },
    {
      "cell_type": "code",
      "source": [
        "for item in cat_cols:\n",
        "    cols.remove(item)\n",
        "\n",
        "cols.remove('readmitted')"
      ],
      "metadata": {
        "id": "K0s0OYasI-PW"
      },
      "execution_count": null,
      "outputs": []
    },
    {
      "cell_type": "code",
      "source": [
        "cols"
      ],
      "metadata": {
        "colab": {
          "base_uri": "https://localhost:8080/"
        },
        "id": "OYnMOMosI3kL",
        "outputId": "6278b41a-d6a4-436c-da8e-767a5a4e8207"
      },
      "execution_count": null,
      "outputs": [
        {
          "output_type": "execute_result",
          "data": {
            "text/plain": [
              "['race',\n",
              " 'gender',\n",
              " 'age',\n",
              " 'admission_type_id',\n",
              " 'discharge_disposition_id',\n",
              " 'admission_source_id',\n",
              " 'time_in_hospital',\n",
              " 'num_lab_procedures',\n",
              " 'num_procedures',\n",
              " 'num_medications',\n",
              " 'number_outpatient',\n",
              " 'number_emergency',\n",
              " 'number_inpatient',\n",
              " 'number_diagnoses',\n",
              " 'max_glu_serum',\n",
              " 'A1Cresult',\n",
              " 'metformin',\n",
              " 'repaglinide',\n",
              " 'nateglinide',\n",
              " 'chlorpropamide',\n",
              " 'glimepiride',\n",
              " 'acetohexamide',\n",
              " 'glipizide',\n",
              " 'glyburide',\n",
              " 'tolbutamide',\n",
              " 'pioglitazone',\n",
              " 'rosiglitazone',\n",
              " 'acarbose',\n",
              " 'miglitol',\n",
              " 'troglitazone',\n",
              " 'tolazamide',\n",
              " 'insulin',\n",
              " 'glyburide-metformin',\n",
              " 'glipizide-metformin',\n",
              " 'glimepiride-pioglitazone',\n",
              " 'metformin-rosiglitazone',\n",
              " 'metformin-pioglitazone',\n",
              " 'change',\n",
              " 'diabetesMed',\n",
              " 'service_utilization',\n",
              " 'numchange',\n",
              " 'level1_diag1',\n",
              " 'diag_1_index',\n",
              " 'diag_2_index',\n",
              " 'diag_3_index',\n",
              " 'diag_1_onehot',\n",
              " 'diag_2_onehot',\n",
              " 'diag_3_onehot']"
            ]
          },
          "metadata": {},
          "execution_count": 63
        }
      ]
    },
    {
      "cell_type": "markdown",
      "source": [
        "### Assemble feature vectors to build the ML model"
      ],
      "metadata": {
        "id": "r-UTxHaSL2d-"
      }
    },
    {
      "cell_type": "code",
      "source": [
        "# Create a VectorAssembler object to assemble the features into a single vector column\n",
        "assembler = VectorAssembler(inputCols=cols, outputCol=\"features\")\n",
        "\n",
        "# Use the assembler to transform the encoded data\n",
        "assembled_data = assembler.transform(encoded_data)\n",
        "\n",
        "# Show the first 20 rows of the assembled data\n",
        "assembled_data.show(20)"
      ],
      "metadata": {
        "colab": {
          "base_uri": "https://localhost:8080/"
        },
        "id": "Z0AnP3V6J-n6",
        "outputId": "b21fed8a-f9fe-4f3b-eb1f-dc46f16586f6"
      },
      "execution_count": null,
      "outputs": [
        {
          "output_type": "stream",
          "name": "stdout",
          "text": [
            "+----+------+---+-----------------+------------------------+-------------------+----------------+------------------+--------------+---------------+-----------------+----------------+----------------+------+------+------+----------------+-------------+---------+---------+-----------+-----------+--------------+-----------+-------------+---------+---------+-----------+------------+-------------+--------+--------+------------+----------+-------+-------------------+-------------------+------------------------+-----------------------+----------------------+------+-----------+----------+-------------------+---------+------------+------------+------------+------------+-----------------+-----------------+-----------------+--------------------+\n",
            "|race|gender|age|admission_type_id|discharge_disposition_id|admission_source_id|time_in_hospital|num_lab_procedures|num_procedures|num_medications|number_outpatient|number_emergency|number_inpatient|diag_1|diag_2|diag_3|number_diagnoses|max_glu_serum|A1Cresult|metformin|repaglinide|nateglinide|chlorpropamide|glimepiride|acetohexamide|glipizide|glyburide|tolbutamide|pioglitazone|rosiglitazone|acarbose|miglitol|troglitazone|tolazamide|insulin|glyburide-metformin|glipizide-metformin|glimepiride-pioglitazone|metformin-rosiglitazone|metformin-pioglitazone|change|diabetesMed|readmitted|service_utilization|numchange|level1_diag1|diag_1_index|diag_2_index|diag_3_index|    diag_1_onehot|    diag_2_onehot|    diag_3_onehot|            features|\n",
            "+----+------+---+-----------------+------------------------+-------------------+----------------+------------------+--------------+---------------+-----------------+----------------+----------------+------+------+------+----------------+-------------+---------+---------+-----------+-----------+--------------+-----------+-------------+---------+---------+-----------+------------+-------------+--------+--------+------------+----------+-------+-------------------+-------------------+------------------------+-----------------------+----------------------+------+-----------+----------+-------------------+---------+------------+------------+------------+------------+-----------------+-----------------+-----------------+--------------------+\n",
            "|   1|     0| 15|                1|                       1|                  7|               3|                59|             0|             18|              0.0|             0.0|             0.0|   276|250.01|   255|               9|          -99|      -99|        1|          1|          1|             1|          1|            0|        1|        1|          1|           1|            1|       1|       1|           1|         1|      1|                  1|                  1|                       1|                      0|                     1|     1|          1|         0|                0.0|        3|         0.0|        12.0|        16.0|       161.0| (711,[12],[1.0])| (738,[16],[1.0])|(783,[161],[1.0])|(2277,[0,2,3,4,5,...|\n",
            "|   2|     0| 25|                1|                       1|                  7|               2|                11|             5|             13|              2.0|             0.0|             1.0|   648|   250|   V27|               6|          -99|      -99|        1|          1|          1|             1|          1|            0|        1|        1|          1|           1|            1|       1|       1|           1|         1|      1|                  1|                  1|                       1|                      0|                     1|     0|          1|         0|                3.0|        2|         0.0|        73.0|         2.0|       226.0| (711,[73],[1.0])|  (738,[2],[1.0])|(783,[226],[1.0])|(2277,[0,2,3,4,5,...|\n",
            "|   1|     1| 35|                1|                       1|                  7|               2|                44|             1|             16|              0.0|             0.0|             0.0|     8|250.43|   403|               7|          -99|      -99|        1|          1|          1|             1|          1|            0|        1|        1|          1|           1|            1|       1|       1|           1|         1|      1|                  1|                  1|                       1|                      0|                     1|     1|          1|         0|                0.0|        3|         0.0|        41.0|       213.0|         7.0| (711,[41],[1.0])|(738,[213],[1.0])|  (783,[7],[1.0])|(2277,[0,1,2,3,4,...|\n",
            "|   1|     1| 45|                1|                       1|                  7|               1|                51|             0|              8|              0.0|             0.0|             0.0|   197|   157|   250|               5|          -99|      -99|        1|          1|          1|             1|          1|            0|        1|        1|          1|           1|            1|       1|       1|           1|         1|      1|                  1|                  1|                       1|                      0|                     1|     1|          1|         0|                0.0|        2|         8.0|        64.0|       143.0|         0.0| (711,[64],[1.0])|(738,[143],[1.0])|  (783,[0],[1.0])|(2277,[0,1,2,3,4,...|\n",
            "|   1|     1| 55|                1|                       1|                  2|               3|                31|             6|             16|              0.0|             0.0|             0.0|   414|   411|   250|               9|          -99|      -99|        1|          1|          1|             1|          1|            0|        1|        1|          1|           1|            1|       1|       1|           1|         1|      1|                  1|                  1|                       1|                      0|                     1|     0|          1|         0|                0.0|        2|         1.0|         1.0|         9.0|         0.0|  (711,[1],[1.0])|  (738,[9],[1.0])|  (783,[0],[1.0])|(2277,[0,1,2,3,4,...|\n",
            "|   1|     1| 65|                3|                       1|                  2|               4|                70|             1|             21|              0.0|             0.0|             0.0|   414|   411|   V45|               7|          -99|      -99|        1|          1|          1|             1|          1|            0|        1|        1|          1|           1|            1|       1|       1|           1|         1|      1|                  1|                  1|                       1|                      0|                     1|     1|          1|         0|                0.0|        2|         1.0|         1.0|         9.0|        11.0|  (711,[1],[1.0])|  (738,[9],[1.0])| (783,[11],[1.0])|(2277,[0,1,2,3,4,...|\n",
            "|   1|     1| 75|                1|                       1|                  7|               5|                73|             0|             12|              0.0|             0.0|             0.0|   428|   492|   250|               8|          -99|      -99|        1|          1|          1|             1|          1|            0|        1|        1|          1|           1|            1|       1|       1|           1|         1|      1|                  1|                  1|                       1|                      0|                     1|     0|          1|         0|                0.0|        2|         1.0|         0.0|        69.0|         0.0|  (711,[0],[1.0])| (738,[69],[1.0])|  (783,[0],[1.0])|(2277,[0,1,2,3,4,...|\n",
            "|   1|     0| 85|                1|                       1|                  4|              13|                68|             2|             28|              0.0|             0.0|             0.0|   398|   427|    38|               8|          -99|      -99|        1|          1|          1|             1|          1|            0|        1|        1|          1|           1|            1|       1|       1|           1|         1|      1|                  1|                  1|                       1|                      0|                     1|     1|          1|         0|                0.0|        2|         1.0|       112.0|         3.0|       102.0|(711,[112],[1.0])|  (738,[3],[1.0])|(783,[102],[1.0])|(2277,[0,2,3,4,5,...|\n",
            "|   1|     0| 95|                3|                       3|                  4|              12|                33|             3|             18|              0.0|             0.0|             0.0|   434|   198|   486|               8|          -99|      -99|        1|          1|          1|             1|          1|            0|        1|        1|          1|           1|            1|       1|       1|           1|         1|      1|                  1|                  1|                       1|                      0|                     1|     1|          1|         0|                0.0|        2|         1.0|        10.0|        53.0|        31.0| (711,[10],[1.0])| (738,[53],[1.0])| (783,[31],[1.0])|(2277,[0,2,3,4,5,...|\n",
            "|   2|     0| 45|                1|                       1|                  7|               9|                47|             2|             17|              0.0|             0.0|             0.0| 250.7|   403|   996|               9|          -99|      -99|        1|          1|          1|             1|          1|            0|        1|        1|          1|           1|            1|       1|       1|           1|         1|      1|                  1|                  1|                       1|                      0|                     1|     0|          1|         0|                0.0|        2|         4.0|        28.0|         7.0|        62.0| (711,[28],[1.0])|  (738,[7],[1.0])| (783,[62],[1.0])|(2277,[0,2,3,4,5,...|\n",
            "|   2|     1| 65|                1|                       1|                  4|               7|                62|             0|             11|              0.0|             0.0|             0.0|   157|   288|   197|               7|          -99|      -99|        1|          1|          1|             1|          1|            0|        1|        1|          1|           1|            1|       1|       1|           1|         1|      1|                  1|                  1|                       1|                      0|                     1|     1|          1|         1|                0.0|        3|         8.0|       125.0|       158.0|        40.0|(711,[125],[1.0])|(738,[158],[1.0])| (783,[40],[1.0])|(2277,[0,1,2,3,4,...|\n",
            "|   1|     0| 45|                1|                       3|                  7|               7|                60|             0|             15|              0.0|             1.0|             0.0|   428|250.43| 250.6|               8|          -99|      -99|        1|          1|          1|             1|          1|            0|        1|        1|          1|           1|            1|       1|       1|           1|         1|      1|                  1|                  1|                       1|                      0|                     1|     1|          1|         1|                1.0|        4|         1.0|         0.0|       213.0|        17.0|  (711,[0],[1.0])|(738,[213],[1.0])| (783,[17],[1.0])|(2277,[0,2,3,4,5,...|\n",
            "|   1|     1| 85|                1|                       6|                  7|              10|                55|             1|             31|              0.0|             0.0|             0.0|   428|   411|   427|               8|          -99|      -99|        1|          1|          1|             1|          1|            0|        1|        1|          1|           1|            1|       1|       1|           1|         1|      1|                  1|                  1|                       1|                      0|                     1|     0|          1|         0|                0.0|        2|         1.0|         0.0|         9.0|         4.0|  (711,[0],[1.0])|  (738,[9],[1.0])|  (783,[4],[1.0])|(2277,[0,1,2,3,4,...|\n",
            "|   2|     0| 65|                3|                       1|                  2|               1|                49|             5|              2|              0.0|             0.0|             0.0|   518|   998|   627|               8|          -99|      -99|        1|          1|          1|             1|          1|            0|        1|        1|          1|           1|            1|       1|       1|           1|         1|      1|                  1|                  1|                       1|                      0|                     1|     0|          1|         0|                0.0|        2|         2.0|        23.0|        29.0|       307.0| (711,[23],[1.0])| (738,[29],[1.0])|(783,[307],[1.0])|(2277,[0,2,3,4,5,...|\n",
            "|   2|     1| 65|                1|                       3|                  7|              12|                75|             5|             13|              0.0|             0.0|             0.0|   999|   507|   996|               9|          -99|      -99|        1|          1|          1|             1|          1|            0|        1|        1|          1|           1|            1|       1|       1|           1|         1|      1|                  1|                  1|                       1|                      0|                     1|     1|          1|         0|                0.0|        3|         5.0|       275.0|        94.0|        62.0|(711,[275],[1.0])| (738,[94],[1.0])| (783,[62],[1.0])|(2277,[0,1,2,3,4,...|\n",
            "|   2|     1| 55|                1|                       1|                  7|               4|                45|             4|             17|              0.0|             0.0|             0.0|   410|   411|   414|               8|          -99|      -99|        1|          1|          1|             1|          1|            0|        1|        1|          1|           1|            1|       1|       1|           1|         1|      1|                  1|                  1|                       1|                      0|                     1|     1|          1|         1|                0.0|        2|         1.0|         3.0|         9.0|         5.0|  (711,[3],[1.0])|  (738,[9],[1.0])|  (783,[5],[1.0])|(2277,[0,1,2,3,4,...|\n",
            "|   1|     0| 55|                1|                       1|                  7|               3|                29|             0|             11|              0.0|             0.0|             0.0|   682|   174|   250|               3|          -99|      -99|        1|          1|          1|             1|          1|            0|        1|        1|          1|           1|            1|       1|       1|           1|         1|      1|                  1|                  1|                       1|                      0|                     1|     0|          1|         0|                0.0|        2|         0.0|         9.0|       240.0|         0.0|  (711,[9],[1.0])|(738,[240],[1.0])|  (783,[0],[1.0])|(2277,[0,2,3,4,5,...|\n",
            "|   2|     1| 75|                1|                       1|                  7|               5|                35|             5|             23|              0.0|             0.0|             0.0|   402|   425|   416|               9|          -99|      -99|        1|          1|          1|             1|          1|            0|        1|        1|          1|           1|            1|       1|       1|           1|         1|      1|                  1|                  1|                       1|                      0|                     1|     0|          1|         0|                0.0|        2|         1.0|        44.0|        18.0|        92.0| (711,[44],[1.0])| (738,[18],[1.0])| (783,[92],[1.0])|(2277,[0,1,2,3,4,...|\n",
            "|   2|     0| 75|                1|                       1|                  4|               2|                47|             0|             12|              0.0|             0.0|             0.0|   410|   401|   582|               8|          -99|      -99|        1|          1|          1|             1|          1|            0|        1|        1|          1|           1|            1|       1|       1|           1|         1|      1|                  1|                  1|                       1|                      0|                     1|     0|          0|         0|                0.0|        2|         1.0|         3.0|         4.0|       369.0|  (711,[3],[1.0])|  (738,[4],[1.0])|(783,[369],[1.0])|(2277,[0,2,3,4,5,...|\n",
            "|   1|     0| 85|                1|                       6|                  1|              11|                42|             2|             19|              0.0|             0.0|             0.0|   V57|   715|   V43|               8|          -99|      -99|        1|          1|          1|             1|          1|            0|        1|        1|          1|           1|            1|       1|       1|           1|         1|      1|                  1|                  1|                       1|                      0|                     1|     0|          0|         0|                0.0|        2|         0.0|        17.0|       108.0|        79.0| (711,[17],[1.0])|(738,[108],[1.0])| (783,[79],[1.0])|(2277,[0,2,3,4,5,...|\n",
            "+----+------+---+-----------------+------------------------+-------------------+----------------+------------------+--------------+---------------+-----------------+----------------+----------------+------+------+------+----------------+-------------+---------+---------+-----------+-----------+--------------+-----------+-------------+---------+---------+-----------+------------+-------------+--------+--------+------------+----------+-------+-------------------+-------------------+------------------------+-----------------------+----------------------+------+-----------+----------+-------------------+---------+------------+------------+------------+------------+-----------------+-----------------+-----------------+--------------------+\n",
            "only showing top 20 rows\n",
            "\n"
          ]
        }
      ]
    },
    {
      "cell_type": "code",
      "source": [
        "# Select only the 'default' and 'features' columns for the final model fit\n",
        "final_data = assembled_data.select('readmitted', 'features')\n",
        "final_data.show(20)"
      ],
      "metadata": {
        "colab": {
          "base_uri": "https://localhost:8080/"
        },
        "id": "ciZiaSHTK2XW",
        "outputId": "1fc02eeb-104f-4098-bd04-431aea884e4b"
      },
      "execution_count": null,
      "outputs": [
        {
          "output_type": "stream",
          "name": "stdout",
          "text": [
            "+----------+--------------------+\n",
            "|readmitted|            features|\n",
            "+----------+--------------------+\n",
            "|         0|(2277,[0,2,3,4,5,...|\n",
            "|         0|(2277,[0,2,3,4,5,...|\n",
            "|         0|(2277,[0,1,2,3,4,...|\n",
            "|         0|(2277,[0,1,2,3,4,...|\n",
            "|         0|(2277,[0,1,2,3,4,...|\n",
            "|         0|(2277,[0,1,2,3,4,...|\n",
            "|         0|(2277,[0,1,2,3,4,...|\n",
            "|         0|(2277,[0,2,3,4,5,...|\n",
            "|         0|(2277,[0,2,3,4,5,...|\n",
            "|         0|(2277,[0,2,3,4,5,...|\n",
            "|         1|(2277,[0,1,2,3,4,...|\n",
            "|         1|(2277,[0,2,3,4,5,...|\n",
            "|         0|(2277,[0,1,2,3,4,...|\n",
            "|         0|(2277,[0,2,3,4,5,...|\n",
            "|         0|(2277,[0,1,2,3,4,...|\n",
            "|         1|(2277,[0,1,2,3,4,...|\n",
            "|         0|(2277,[0,2,3,4,5,...|\n",
            "|         0|(2277,[0,1,2,3,4,...|\n",
            "|         0|(2277,[0,2,3,4,5,...|\n",
            "|         0|(2277,[0,2,3,4,5,...|\n",
            "+----------+--------------------+\n",
            "only showing top 20 rows\n",
            "\n"
          ]
        }
      ]
    },
    {
      "cell_type": "markdown",
      "source": [
        "### Train-test split"
      ],
      "metadata": {
        "id": "-jIpQpT2L895"
      }
    },
    {
      "cell_type": "code",
      "source": [
        "train_data, test_data = final_data.randomSplit([0.7, 0.3], seed=42)"
      ],
      "metadata": {
        "id": "HdHgedxrLC9W"
      },
      "execution_count": null,
      "outputs": []
    },
    {
      "cell_type": "markdown",
      "source": [
        "### Building a Logistic Regression Model"
      ],
      "metadata": {
        "id": "f0-OgxLUL-uZ"
      }
    },
    {
      "cell_type": "code",
      "source": [
        "# Step 11: Train a logistic regression model\n",
        "from pyspark.ml.classification import LogisticRegression\n",
        "\n",
        "# Create a logistic regression object with specified settings\n",
        "lr = LogisticRegression(labelCol = 'readmitted', featuresCol = 'features', maxIter=10, regParam=0.01)\n",
        "\n",
        "# Fit the model to the training data\n",
        "lr_model = lr.fit(train_data)\n",
        "\n",
        "predictions = lr_model.transform(test_data)"
      ],
      "metadata": {
        "id": "3eqzaD3MLGV2"
      },
      "execution_count": null,
      "outputs": []
    },
    {
      "cell_type": "code",
      "source": [
        "from pyspark.ml.evaluation import BinaryClassificationEvaluator\n",
        "\n",
        "# Create a binary classification evaluator\n",
        "evaluator = BinaryClassificationEvaluator(labelCol='readmitted')\n",
        "\n",
        "# Compute the ROC AUC on the test data\n",
        "roc_auc = evaluator.evaluate(predictions)\n",
        "\n",
        "# Print the ROC AUC score\n",
        "print(f'ROC AUC: {roc_auc}')\n"
      ],
      "metadata": {
        "colab": {
          "base_uri": "https://localhost:8080/"
        },
        "id": "VqyzBswRLKMh",
        "outputId": "11711902-7219-4c10-aa3c-2bab1b262e5d"
      },
      "execution_count": null,
      "outputs": [
        {
          "output_type": "stream",
          "name": "stdout",
          "text": [
            "ROC AUC: 0.6304861771418334\n"
          ]
        }
      ]
    },
    {
      "cell_type": "code",
      "source": [
        "from pyspark.ml.evaluation import MulticlassClassificationEvaluator\n",
        "\n",
        "# Evaluate the model using accuracy\n",
        "evaluator = MulticlassClassificationEvaluator(labelCol='readmitted', predictionCol = \"prediction\", metricName='accuracy')\n",
        "accuracy = evaluator.evaluate(predictions)\n",
        "\n",
        "print(f\"Accuracy: {accuracy}\")\n"
      ],
      "metadata": {
        "colab": {
          "base_uri": "https://localhost:8080/"
        },
        "id": "NByjOEBRLMJL",
        "outputId": "b3c37121-bdb2-4d80-d6fe-c38f2e516dfe"
      },
      "execution_count": null,
      "outputs": [
        {
          "output_type": "stream",
          "name": "stdout",
          "text": [
            "Accuracy: 0.8819362455726092\n"
          ]
        }
      ]
    },
    {
      "cell_type": "markdown",
      "source": [
        "**Hyperparameters tuning**\n",
        "\n",
        "---\n",
        "\n"
      ],
      "metadata": {
        "id": "QISL3T649qLW"
      }
    },
    {
      "cell_type": "code",
      "source": [
        "from pyspark.ml.tuning import ParamGridBuilder, CrossValidator "
      ],
      "metadata": {
        "id": "QA003dZR9wSX"
      },
      "execution_count": null,
      "outputs": []
    },
    {
      "cell_type": "code",
      "source": [
        "# Define parameter grid for model tuning\n",
        "paramGrid = (ParamGridBuilder() \\\n",
        "    .addGrid(lr.regParam, [0.01, 0.1]) \\\n",
        "    .addGrid(lr.elasticNetParam, [0.0, 0.5, 1.0]) \\\n",
        "    .build())\n",
        "\n",
        "# Define cross-validator\n",
        "cv = CrossValidator(estimator=lr, estimatorParamMaps=paramGrid, evaluator=MulticlassClassificationEvaluator(labelCol='readmitted', predictionCol = \"prediction\", metricName='accuracy'), numFolds=5)\n",
        "\n",
        "# Run cross validations.\n",
        "cvModel = cv.fit(train_data)\n",
        "\n",
        "# Evaluate the performance of the tuned model on the test set\n",
        "predictions = cvModel.transform(test_data)\n",
        "evaluator = MulticlassClassificationEvaluator(labelCol='readmitted', predictionCol = \"prediction\", metricName='accuracy')\n",
        "accuracy = evaluator.evaluate(predictions)\n",
        "\n",
        "print(f\"Accuracy on test set (tuned model): {accuracy:.4f}\")\n"
      ],
      "metadata": {
        "colab": {
          "base_uri": "https://localhost:8080/"
        },
        "id": "xAR3OGDs9zKP",
        "outputId": "3d6b02f3-a858-46b2-d08c-2d1c8df6ed65"
      },
      "execution_count": null,
      "outputs": [
        {
          "output_type": "stream",
          "name": "stdout",
          "text": [
            "Accuracy on test set (tuned model): 0.8829\n"
          ]
        }
      ]
    },
    {
      "cell_type": "code",
      "source": [
        "!pip install streamlit"
      ],
      "metadata": {
        "colab": {
          "base_uri": "https://localhost:8080/"
        },
        "id": "WE5zlMFpi1IJ",
        "outputId": "8154ea74-3e11-4bf8-92c0-23acf0498911"
      },
      "execution_count": null,
      "outputs": [
        {
          "output_type": "stream",
          "name": "stdout",
          "text": [
            "Looking in indexes: https://pypi.org/simple, https://us-python.pkg.dev/colab-wheels/public/simple/\n",
            "Collecting streamlit\n",
            "  Downloading streamlit-1.21.0-py2.py3-none-any.whl (9.7 MB)\n",
            "\u001b[2K     \u001b[90m━━━━━━━━━━━━━━━━━━━━━━━━━━━━━━━━━━━━━━━━\u001b[0m \u001b[32m9.7/9.7 MB\u001b[0m \u001b[31m43.3 MB/s\u001b[0m eta \u001b[36m0:00:00\u001b[0m\n",
            "\u001b[?25hCollecting blinker>=1.0.0\n",
            "  Downloading blinker-1.6.2-py3-none-any.whl (13 kB)\n",
            "Requirement already satisfied: tornado>=6.0.3 in /usr/local/lib/python3.9/dist-packages (from streamlit) (6.2)\n",
            "Requirement already satisfied: toml in /usr/local/lib/python3.9/dist-packages (from streamlit) (0.10.2)\n",
            "Requirement already satisfied: python-dateutil in /usr/local/lib/python3.9/dist-packages (from streamlit) (2.8.2)\n",
            "Requirement already satisfied: typing-extensions>=3.10.0.0 in /usr/local/lib/python3.9/dist-packages (from streamlit) (4.5.0)\n",
            "Requirement already satisfied: numpy in /usr/local/lib/python3.9/dist-packages (from streamlit) (1.22.4)\n",
            "Collecting pympler>=0.9\n",
            "  Downloading Pympler-1.0.1-py3-none-any.whl (164 kB)\n",
            "\u001b[2K     \u001b[90m━━━━━━━━━━━━━━━━━━━━━━━━━━━━━━━━━━━━━━\u001b[0m \u001b[32m164.8/164.8 kB\u001b[0m \u001b[31m18.4 MB/s\u001b[0m eta \u001b[36m0:00:00\u001b[0m\n",
            "\u001b[?25hRequirement already satisfied: tzlocal>=1.1 in /usr/local/lib/python3.9/dist-packages (from streamlit) (4.3)\n",
            "Collecting validators>=0.2\n",
            "  Downloading validators-0.20.0.tar.gz (30 kB)\n",
            "  Preparing metadata (setup.py) ... \u001b[?25l\u001b[?25hdone\n",
            "Requirement already satisfied: importlib-metadata>=1.4 in /usr/local/lib/python3.9/dist-packages (from streamlit) (6.6.0)\n",
            "Requirement already satisfied: cachetools>=4.0 in /usr/local/lib/python3.9/dist-packages (from streamlit) (5.3.0)\n",
            "Collecting gitpython!=3.1.19\n",
            "  Downloading GitPython-3.1.31-py3-none-any.whl (184 kB)\n",
            "\u001b[2K     \u001b[90m━━━━━━━━━━━━━━━━━━━━━━━━━━━━━━━━━━━━━━\u001b[0m \u001b[32m184.3/184.3 kB\u001b[0m \u001b[31m19.9 MB/s\u001b[0m eta \u001b[36m0:00:00\u001b[0m\n",
            "\u001b[?25hRequirement already satisfied: packaging>=14.1 in /usr/local/lib/python3.9/dist-packages (from streamlit) (23.1)\n",
            "Requirement already satisfied: rich>=10.11.0 in /usr/local/lib/python3.9/dist-packages (from streamlit) (13.3.4)\n",
            "Requirement already satisfied: click>=7.0 in /usr/local/lib/python3.9/dist-packages (from streamlit) (8.1.3)\n",
            "Collecting pydeck>=0.1.dev5\n",
            "  Downloading pydeck-0.8.1b0-py2.py3-none-any.whl (4.8 MB)\n",
            "\u001b[2K     \u001b[90m━━━━━━━━━━━━━━━━━━━━━━━━━━━━━━━━━━━━━━━━\u001b[0m \u001b[32m4.8/4.8 MB\u001b[0m \u001b[31m66.0 MB/s\u001b[0m eta \u001b[36m0:00:00\u001b[0m\n",
            "\u001b[?25hRequirement already satisfied: altair<5,>=3.2.0 in /usr/local/lib/python3.9/dist-packages (from streamlit) (4.2.2)\n",
            "Requirement already satisfied: pillow>=6.2.0 in /usr/local/lib/python3.9/dist-packages (from streamlit) (8.4.0)\n",
            "Requirement already satisfied: protobuf<4,>=3.12 in /usr/local/lib/python3.9/dist-packages (from streamlit) (3.20.3)\n",
            "Collecting watchdog\n",
            "  Downloading watchdog-3.0.0-py3-none-manylinux2014_x86_64.whl (82 kB)\n",
            "\u001b[2K     \u001b[90m━━━━━━━━━━━━━━━━━━━━━━━━━━━━━━━━━━━━━━━━\u001b[0m \u001b[32m82.1/82.1 kB\u001b[0m \u001b[31m10.3 MB/s\u001b[0m eta \u001b[36m0:00:00\u001b[0m\n",
            "\u001b[?25hRequirement already satisfied: pyarrow>=4.0 in /usr/local/lib/python3.9/dist-packages (from streamlit) (9.0.0)\n",
            "Requirement already satisfied: pandas<2,>=0.25 in /usr/local/lib/python3.9/dist-packages (from streamlit) (1.5.3)\n",
            "Requirement already satisfied: requests>=2.4 in /usr/local/lib/python3.9/dist-packages (from streamlit) (2.27.1)\n",
            "Requirement already satisfied: jinja2 in /usr/local/lib/python3.9/dist-packages (from altair<5,>=3.2.0->streamlit) (3.1.2)\n",
            "Requirement already satisfied: toolz in /usr/local/lib/python3.9/dist-packages (from altair<5,>=3.2.0->streamlit) (0.12.0)\n",
            "Requirement already satisfied: jsonschema>=3.0 in /usr/local/lib/python3.9/dist-packages (from altair<5,>=3.2.0->streamlit) (4.3.3)\n",
            "Requirement already satisfied: entrypoints in /usr/local/lib/python3.9/dist-packages (from altair<5,>=3.2.0->streamlit) (0.4)\n",
            "Collecting gitdb<5,>=4.0.1\n",
            "  Downloading gitdb-4.0.10-py3-none-any.whl (62 kB)\n",
            "\u001b[2K     \u001b[90m━━━━━━━━━━━━━━━━━━━━━━━━━━━━━━━━━━━━━━━━\u001b[0m \u001b[32m62.7/62.7 kB\u001b[0m \u001b[31m6.5 MB/s\u001b[0m eta \u001b[36m0:00:00\u001b[0m\n",
            "\u001b[?25hRequirement already satisfied: zipp>=0.5 in /usr/local/lib/python3.9/dist-packages (from importlib-metadata>=1.4->streamlit) (3.15.0)\n",
            "Requirement already satisfied: pytz>=2020.1 in /usr/local/lib/python3.9/dist-packages (from pandas<2,>=0.25->streamlit) (2022.7.1)\n",
            "Requirement already satisfied: six>=1.5 in /usr/local/lib/python3.9/dist-packages (from python-dateutil->streamlit) (1.16.0)\n",
            "Requirement already satisfied: idna<4,>=2.5 in /usr/local/lib/python3.9/dist-packages (from requests>=2.4->streamlit) (3.4)\n",
            "Requirement already satisfied: urllib3<1.27,>=1.21.1 in /usr/local/lib/python3.9/dist-packages (from requests>=2.4->streamlit) (1.26.15)\n",
            "Requirement already satisfied: certifi>=2017.4.17 in /usr/local/lib/python3.9/dist-packages (from requests>=2.4->streamlit) (2022.12.7)\n",
            "Requirement already satisfied: charset-normalizer~=2.0.0 in /usr/local/lib/python3.9/dist-packages (from requests>=2.4->streamlit) (2.0.12)\n",
            "Requirement already satisfied: markdown-it-py<3.0.0,>=2.2.0 in /usr/local/lib/python3.9/dist-packages (from rich>=10.11.0->streamlit) (2.2.0)\n",
            "Requirement already satisfied: pygments<3.0.0,>=2.13.0 in /usr/local/lib/python3.9/dist-packages (from rich>=10.11.0->streamlit) (2.14.0)\n",
            "Requirement already satisfied: pytz-deprecation-shim in /usr/local/lib/python3.9/dist-packages (from tzlocal>=1.1->streamlit) (0.1.0.post0)\n",
            "Requirement already satisfied: decorator>=3.4.0 in /usr/local/lib/python3.9/dist-packages (from validators>=0.2->streamlit) (4.4.2)\n",
            "Collecting smmap<6,>=3.0.1\n",
            "  Downloading smmap-5.0.0-py3-none-any.whl (24 kB)\n",
            "Requirement already satisfied: MarkupSafe>=2.0 in /usr/local/lib/python3.9/dist-packages (from jinja2->altair<5,>=3.2.0->streamlit) (2.1.2)\n",
            "Requirement already satisfied: pyrsistent!=0.17.0,!=0.17.1,!=0.17.2,>=0.14.0 in /usr/local/lib/python3.9/dist-packages (from jsonschema>=3.0->altair<5,>=3.2.0->streamlit) (0.19.3)\n",
            "Requirement already satisfied: attrs>=17.4.0 in /usr/local/lib/python3.9/dist-packages (from jsonschema>=3.0->altair<5,>=3.2.0->streamlit) (23.1.0)\n",
            "Requirement already satisfied: mdurl~=0.1 in /usr/local/lib/python3.9/dist-packages (from markdown-it-py<3.0.0,>=2.2.0->rich>=10.11.0->streamlit) (0.1.2)\n",
            "Requirement already satisfied: tzdata in /usr/local/lib/python3.9/dist-packages (from pytz-deprecation-shim->tzlocal>=1.1->streamlit) (2023.3)\n",
            "Building wheels for collected packages: validators\n",
            "  Building wheel for validators (setup.py) ... \u001b[?25l\u001b[?25hdone\n",
            "  Created wheel for validators: filename=validators-0.20.0-py3-none-any.whl size=19579 sha256=b27a11cfa5cb07589e8b8582c4336c2fdce4160ef47a3385f3a2be3511681abb\n",
            "  Stored in directory: /root/.cache/pip/wheels/2d/f0/a8/1094fca7a7e5d0d12ff56e0c64675d72aa5cc81a5fc200e849\n",
            "Successfully built validators\n",
            "Installing collected packages: watchdog, validators, smmap, pympler, blinker, pydeck, gitdb, gitpython, streamlit\n",
            "Successfully installed blinker-1.6.2 gitdb-4.0.10 gitpython-3.1.31 pydeck-0.8.1b0 pympler-1.0.1 smmap-5.0.0 streamlit-1.21.0 validators-0.20.0 watchdog-3.0.0\n"
          ]
        }
      ]
    },
    {
      "cell_type": "code",
      "source": [
        "import streamlit as st"
      ],
      "metadata": {
        "id": "yj6d4-A8i9pi"
      },
      "execution_count": null,
      "outputs": []
    },
    {
      "cell_type": "code",
      "source": [
        "st.sidebar.title('BDI Project')"
      ],
      "metadata": {
        "colab": {
          "base_uri": "https://localhost:8080/"
        },
        "id": "t1eTI2nmjiC6",
        "outputId": "3497b070-02ba-4446-9e44-4dfea75835ea"
      },
      "execution_count": null,
      "outputs": [
        {
          "output_type": "stream",
          "name": "stderr",
          "text": [
            "WARNING:root:\n",
            "  \u001b[33m\u001b[1mWarning:\u001b[0m to view this Streamlit app on a browser, run it with the following\n",
            "  command:\n",
            "\n",
            "    streamlit run /usr/local/lib/python3.9/dist-packages/ipykernel_launcher.py [ARGUMENTS]\n",
            "2023-04-27 07:12:20.420 \n",
            "  \u001b[33m\u001b[1mWarning:\u001b[0m to view this Streamlit app on a browser, run it with the following\n",
            "  command:\n",
            "\n",
            "    streamlit run /usr/local/lib/python3.9/dist-packages/ipykernel_launcher.py [ARGUMENTS]\n"
          ]
        },
        {
          "output_type": "execute_result",
          "data": {
            "text/plain": [
              "DeltaGenerator(_root_container=1, _parent=DeltaGenerator())"
            ]
          },
          "metadata": {},
          "execution_count": 78
        }
      ]
    }
  ]
}